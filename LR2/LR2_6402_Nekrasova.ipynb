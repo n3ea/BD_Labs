{
  "nbformat": 4,
  "nbformat_minor": 0,
  "metadata": {
    "colab": {
      "provenance": []
    },
    "kernelspec": {
      "name": "python3",
      "display_name": "Python 3"
    },
    "language_info": {
      "name": "python"
    }
  },
  "cells": [
    {
      "cell_type": "code",
      "execution_count": 9,
      "metadata": {
        "colab": {
          "base_uri": "https://localhost:8080/"
        },
        "id": "6RJfdjLK2qez",
        "outputId": "ead13d2e-d981-407b-9d08-bffb76737599"
      },
      "outputs": [
        {
          "output_type": "stream",
          "name": "stdout",
          "text": [
            "Requirement already satisfied: pyspark in /usr/local/lib/python3.11/dist-packages (3.5.5)\n",
            "Requirement already satisfied: py4j==0.10.9.7 in /usr/local/lib/python3.11/dist-packages (from pyspark) (0.10.9.7)\n"
          ]
        }
      ],
      "source": [
        "!pip install pyspark"
      ]
    },
    {
      "cell_type": "code",
      "source": [
        "import os\n",
        "import sys\n",
        "from pyspark.sql import SparkSession\n",
        "import pyspark.sql.functions as F\n",
        "from pyspark.sql.types import StructType, StructField, IntegerType, StringType\n",
        "from pyspark.sql import Row\n",
        "from pyspark.sql.functions import desc\n",
        "\n",
        "\n",
        "# Настройка переменных окружения для PySpark\n",
        "os.environ['PYSPARK_PYTHON'] = sys.executable\n",
        "os.environ['PYSPARK_DRIVER_PYTHON'] = sys.executable\n",
        "# Добавление пакета для парсинга XML\n",
        "os.environ['PYSPARK_SUBMIT_ARGS'] = '--packages com.databricks:spark-xml_2.12:0.17.0 pyspark-shell'\n"
      ],
      "metadata": {
        "id": "p5NL4zOm3XX_"
      },
      "execution_count": 24,
      "outputs": []
    },
    {
      "cell_type": "code",
      "source": [
        "# Создание SparkSession\n",
        "spark = SparkSession.builder.appName(\"2010-2020 top programming languages\").getOrCreate()"
      ],
      "metadata": {
        "id": "SYThxSg93gsL"
      },
      "execution_count": 11,
      "outputs": []
    },
    {
      "cell_type": "code",
      "source": [
        "# Загрузка файлов с данными\n",
        "!wget https://git.ai.ssau.ru/tk/big_data/raw/branch/master/data/posts_sample.xml\n",
        "!wget https://git.ai.ssau.ru/tk/big_data/raw/branch/master/data/programming-languages.csv"
      ],
      "metadata": {
        "colab": {
          "base_uri": "https://localhost:8080/"
        },
        "id": "TIw_sV3N3wZj",
        "outputId": "a3fc5bd2-a88e-4a8f-e7ad-d141ef99ebb3"
      },
      "execution_count": 12,
      "outputs": [
        {
          "output_type": "stream",
          "name": "stdout",
          "text": [
            "--2025-04-21 15:18:34--  https://git.ai.ssau.ru/tk/big_data/raw/branch/master/data/posts_sample.xml\n",
            "Resolving git.ai.ssau.ru (git.ai.ssau.ru)... 91.222.131.161\n",
            "Connecting to git.ai.ssau.ru (git.ai.ssau.ru)|91.222.131.161|:443... connected.\n",
            "HTTP request sent, awaiting response... 200 OK\n",
            "Length: 74162295 (71M) [text/plain]\n",
            "Saving to: ‘posts_sample.xml.1’\n",
            "\n",
            "posts_sample.xml.1  100%[===================>]  70.73M   532KB/s    in 2m 14s  \n",
            "\n",
            "2025-04-21 15:20:49 (540 KB/s) - ‘posts_sample.xml.1’ saved [74162295/74162295]\n",
            "\n",
            "--2025-04-21 15:20:49--  https://git.ai.ssau.ru/tk/big_data/raw/branch/master/data/programming-languages.csv\n",
            "Resolving git.ai.ssau.ru (git.ai.ssau.ru)... 91.222.131.161\n",
            "Connecting to git.ai.ssau.ru (git.ai.ssau.ru)|91.222.131.161|:443... connected.\n",
            "HTTP request sent, awaiting response... 200 OK\n",
            "Length: 40269 (39K) [text/plain]\n",
            "Saving to: ‘programming-languages.csv.1’\n",
            "\n",
            "programming-languag 100%[===================>]  39.33K   129KB/s    in 0.3s    \n",
            "\n",
            "2025-04-21 15:20:50 (129 KB/s) - ‘programming-languages.csv.1’ saved [40269/40269]\n",
            "\n"
          ]
        }
      ]
    },
    {
      "cell_type": "markdown",
      "source": [
        "**Загрузка и первичный анализ данных из  posts_sample.xml**"
      ],
      "metadata": {
        "id": "1fP7R-GO5Sbr"
      }
    },
    {
      "cell_type": "code",
      "source": [
        "# Импорт данных из XML-файла в объект DataFrame\n",
        "post_records = spark.read.format('xml').option('rowTag', 'row').option(\"timestampFormat\", 'yyyy/MM/dd HH:mm:ss').load('posts_sample.xml')\n",
        "\n",
        "# Анализ структуры загруженных данных\n",
        "print(\"Структура таблицы с записями:\")\n",
        "post_records.printSchema()\n",
        "print(\"\\nПримеры записей (первые 5 строк):\")\n",
        "post_records.limit(5).show()\n",
        "print(\"\\nСводная статистика по числовым полям:\")\n",
        "post_records.summary().show()\n",
        "print(f\"Всего записей: {post_records.count()}\")"
      ],
      "metadata": {
        "id": "VPyhX8V74Lkd",
        "colab": {
          "base_uri": "https://localhost:8080/"
        },
        "outputId": "b3558bbf-c4f0-4388-d3f1-9c25243aad5e"
      },
      "execution_count": 16,
      "outputs": [
        {
          "output_type": "stream",
          "name": "stdout",
          "text": [
            "Структура таблицы с записями:\n",
            "root\n",
            " |-- _AcceptedAnswerId: long (nullable = true)\n",
            " |-- _AnswerCount: long (nullable = true)\n",
            " |-- _Body: string (nullable = true)\n",
            " |-- _ClosedDate: timestamp (nullable = true)\n",
            " |-- _CommentCount: long (nullable = true)\n",
            " |-- _CommunityOwnedDate: timestamp (nullable = true)\n",
            " |-- _CreationDate: timestamp (nullable = true)\n",
            " |-- _FavoriteCount: long (nullable = true)\n",
            " |-- _Id: long (nullable = true)\n",
            " |-- _LastActivityDate: timestamp (nullable = true)\n",
            " |-- _LastEditDate: timestamp (nullable = true)\n",
            " |-- _LastEditorDisplayName: string (nullable = true)\n",
            " |-- _LastEditorUserId: long (nullable = true)\n",
            " |-- _OwnerDisplayName: string (nullable = true)\n",
            " |-- _OwnerUserId: long (nullable = true)\n",
            " |-- _ParentId: long (nullable = true)\n",
            " |-- _PostTypeId: long (nullable = true)\n",
            " |-- _Score: long (nullable = true)\n",
            " |-- _Tags: string (nullable = true)\n",
            " |-- _Title: string (nullable = true)\n",
            " |-- _ViewCount: long (nullable = true)\n",
            "\n",
            "\n",
            "Примеры записей (первые 5 строк):\n",
            "+-----------------+------------+--------------------+-----------+-------------+--------------------+--------------------+--------------+---+--------------------+--------------------+----------------------+-----------------+-----------------+------------+---------+-----------+------+--------------------+--------------------+----------+\n",
            "|_AcceptedAnswerId|_AnswerCount|               _Body|_ClosedDate|_CommentCount| _CommunityOwnedDate|       _CreationDate|_FavoriteCount|_Id|   _LastActivityDate|       _LastEditDate|_LastEditorDisplayName|_LastEditorUserId|_OwnerDisplayName|_OwnerUserId|_ParentId|_PostTypeId|_Score|               _Tags|              _Title|_ViewCount|\n",
            "+-----------------+------------+--------------------+-----------+-------------+--------------------+--------------------+--------------+---+--------------------+--------------------+----------------------+-----------------+-----------------+------------+---------+-----------+------+--------------------+--------------------+----------+\n",
            "|                7|          13|<p>I want to use ...|       NULL|            2|2012-10-31 16:42:...|2008-07-31 21:42:...|            48|  4|2019-07-19 01:39:...|2019-07-19 01:39:...|                Rich B|          3641067|             NULL|           8|     NULL|          1|   630|<c#><floating-poi...|Convert Decimal t...|     42817|\n",
            "|               31|           6|<p>I have an abso...|       NULL|            0|                NULL|2008-07-31 22:08:...|            10|  6|2019-07-19 01:43:...|2019-07-19 01:43:...|                Rich B|          3641067|             NULL|           9|     NULL|          1|   281|<html><css><inter...|Percentage width ...|     18214|\n",
            "|             NULL|        NULL|<p>An explicit ca...|       NULL|            0|                NULL|2008-07-31 22:17:...|          NULL|  7|2017-12-16 05:06:...|2017-12-16 05:06:...|                  NULL|          4020527|             NULL|           9|        4|          2|   425|                NULL|                NULL|      NULL|\n",
            "|             1404|          63|<p>Given a <code>...|       NULL|            5|2011-08-16 19:40:...|2008-07-31 23:40:...|           436|  9|2019-06-26 15:25:...|2018-04-21 17:48:...|                Rich B|          3956566|             NULL|           1|     NULL|          1|  1742|<c#><.net><datetime>|How do I calculat...|    555183|\n",
            "|             1248|          37|<p>Given a specif...|       NULL|            3|2009-09-04 13:15:...|2008-07-31 23:55:...|           539| 11|2019-05-26 02:31:...|2017-06-04 15:51:...|           user2370523|          6479704|             NULL|           1|     NULL|          1|  1444|<c#><datetime><ti...|Calculate relativ...|    149445|\n",
            "+-----------------+------------+--------------------+-----------+-------------+--------------------+--------------------+--------------+---+--------------------+--------------------+----------------------+-----------------+-----------------+------------+---------+-----------+------+--------------------+--------------------+----------+\n",
            "\n",
            "\n",
            "Сводная статистика по числовым полям:\n",
            "+-------+--------------------+------------------+--------------------+------------------+------------------+--------------------+----------------------+------------------+-----------------+------------------+--------------------+------------------+------------------+-----------------+--------------------+------------------+\n",
            "|summary|   _AcceptedAnswerId|      _AnswerCount|               _Body|     _CommentCount|    _FavoriteCount|                 _Id|_LastEditorDisplayName| _LastEditorUserId|_OwnerDisplayName|      _OwnerUserId|           _ParentId|       _PostTypeId|            _Score|            _Tags|              _Title|        _ViewCount|\n",
            "+-------+--------------------+------------------+--------------------+------------------+------------------+--------------------+----------------------+------------------+-----------------+------------------+--------------------+------------------+------------------+-----------------+--------------------+------------------+\n",
            "|  count|                9510|             18055|               46006|             46006|              4114|               46006|                   306|             18283|             1041|             45459|               27863|             46006|             46006|            18055|               18055|             18055|\n",
            "|   mean|2.7162224087907467E7|1.5406258654112435|                NULL| 1.627678998391514|2.8410306271268837| 2.841079576779116E7|                  NULL|2299741.6452989117|             NULL|2738545.1534129656|2.5664491707353838E7|1.6123549102291006| 2.605855757944616|             NULL|                NULL| 2390.661589587372|\n",
            "| stddev|1.6554270224830523E7| 1.563896119203063|                NULL|2.4710189057187044|15.552832509977994|1.6842348816968918E7|                  NULL|  2591596.07436971|             NULL|2768762.4204269676|1.6844008378592387E7|0.5047053344290593|23.783318848732357|             NULL|                NULL|27131.390062048562|\n",
            "|    min|                   7|                 0|                    |                 0|                 0|                   4|     &#211;lafur Waage|                -1|&#211;lafur Waage|                -1|                   4|                 1|               -21|      <.htaccess>|\"&\" or \"&amp;\" in...|                 2|\n",
            "|    25%|            12420780|                 1|                NULL|                 0|                 1|            13610401|                  NULL|            314028|             NULL|            569372|            10674301|                 1|                 0|             NULL|                NULL|                78|\n",
            "|    50%|            26254167|                 1|                NULL|                 1|                 1|            28049648|                  NULL|           1292848|             NULL|           1706545|            24135942|                 2|                 1|             NULL|                NULL|               282|\n",
            "|    75%|            41288373|                 2|                NULL|                 2|                 2|            43039435|                  NULL|           3511144|             NULL|           4183164|            39883243|                 2|                 2|             NULL|                NULL|              1016|\n",
            "|    max|            57735208|                63|react-spring is a...|                44|               539|            57743417|            zacherates|          11985504|             ʞɔıu|          12001913|            57743358|                 5|              2683|<zurb-foundation>|“error validating...|           3042469|\n",
            "+-------+--------------------+------------------+--------------------+------------------+------------------+--------------------+----------------------+------------------+-----------------+------------------+--------------------+------------------+------------------+-----------------+--------------------+------------------+\n",
            "\n",
            "Всего записей: 46006\n"
          ]
        }
      ]
    },
    {
      "cell_type": "markdown",
      "source": [
        "**Фильтрация записей по временному периоду**"
      ],
      "metadata": {
        "id": "gi-4TGQ_-HVL"
      }
    },
    {
      "cell_type": "code",
      "source": [
        "# Задание временного интервал\n",
        "time_range = (\"2010-01-01\", \"2020-12-31\")\n",
        "\n",
        "# Отбор записей, попадающих в указанный период\n",
        "filtered_posts = post_records.where(F.col(\"_CreationDate\").between(time_range[0], time_range[1]))\n",
        "\n",
        "# Визуализация результата фильтрации\n",
        "print(\"Отфильтрованные записи (первые 10):\")\n",
        "filtered_posts.limit(10).show()"
      ],
      "metadata": {
        "colab": {
          "base_uri": "https://localhost:8080/"
        },
        "id": "tm1R_Cqk-ctF",
        "outputId": "52075bff-ffb3-475f-b65d-6d973398c3f4"
      },
      "execution_count": 18,
      "outputs": [
        {
          "output_type": "stream",
          "name": "stdout",
          "text": [
            "Отфильтрованные записи (первые 10):\n",
            "+-----------------+------------+--------------------+-----------+-------------+--------------------+--------------------+--------------+-------+--------------------+--------------------+----------------------+-----------------+-----------------+------------+---------+-----------+------+-----+------+----------+\n",
            "|_AcceptedAnswerId|_AnswerCount|               _Body|_ClosedDate|_CommentCount| _CommunityOwnedDate|       _CreationDate|_FavoriteCount|    _Id|   _LastActivityDate|       _LastEditDate|_LastEditorDisplayName|_LastEditorUserId|_OwnerDisplayName|_OwnerUserId|_ParentId|_PostTypeId|_Score|_Tags|_Title|_ViewCount|\n",
            "+-----------------+------------+--------------------+-----------+-------------+--------------------+--------------------+--------------+-------+--------------------+--------------------+----------------------+-----------------+-----------------+------------+---------+-----------+------+-----+------+----------+\n",
            "|             NULL|        NULL|<p>No. (And more ...|       NULL|            6|                NULL|2010-09-20 16:18:...|          NULL|3753373|2010-09-20 16:18:...|                NULL|                  NULL|             NULL|             NULL|       10293|  3753364|          2|    13| NULL|  NULL|      NULL|\n",
            "|             NULL|        NULL|<p>I am not aware...|       NULL|            2|                NULL|2010-09-20 18:36:...|          NULL|3754384|2010-09-20 18:43:...|2010-09-20 18:43:...|                  NULL|           140185|             NULL|      140185|  3754279|          2|     2| NULL|  NULL|      NULL|\n",
            "|             NULL|        NULL|<p>If you want a ...|       NULL|            2|                NULL|2010-09-20 19:04:...|          NULL|3754601|2010-09-20 19:04:...|                NULL|                  NULL|             NULL|             NULL|        7280|  3754553|          2|     1| NULL|  NULL|      NULL|\n",
            "|             NULL|        NULL|<p>The very first...|       NULL|            0|                NULL|2010-09-21 02:07:...|          NULL|3756831|2010-09-21 02:07:...|                NULL|                  NULL|             NULL|             NULL|      349130|  3756770|          2|     9| NULL|  NULL|      NULL|\n",
            "|             NULL|        NULL|<p>It seems to me...|       NULL|            3|                NULL|2010-09-21 07:33:...|          NULL|3758183|2010-09-21 07:33:...|                NULL|                  NULL|             NULL|             NULL|       15168|  3754526|          2|     0| NULL|  NULL|      NULL|\n",
            "|             NULL|        NULL|<p>In Django orig...|       NULL|            3|2010-09-21 11:46:...|2010-09-21 11:46:...|          NULL|3759958|2010-09-21 13:40:...|2010-09-21 13:40:...|                  NULL|           377095|             NULL|      377095|  3759524|          2|     1| NULL|  NULL|      NULL|\n",
            "|             NULL|        NULL|<p>You can't. Mic...|       NULL|            0|                NULL|2010-09-21 12:07:...|          NULL|3760101|2010-09-21 12:07:...|                NULL|                  NULL|             NULL|             NULL|      155641|  3760066|          2|     1| NULL|  NULL|      NULL|\n",
            "|             NULL|        NULL|<p>I don't know, ...|       NULL|            0|                NULL|2010-09-21 13:16:...|          NULL|3760630|2010-09-21 13:16:...|                NULL|                  NULL|             NULL|             NULL|      417143|  2739558|          2|     0| NULL|  NULL|      NULL|\n",
            "|             NULL|        NULL|<p>You can't unle...|       NULL|            2|                NULL|2010-09-21 15:09:...|          NULL|3761678|2010-09-21 15:09:...|                NULL|                  NULL|             NULL|             NULL|       77409|  3761429|          2|     2| NULL|  NULL|      NULL|\n",
            "|             NULL|        NULL|<p>Assume your se...|       NULL|            0|                NULL|2010-09-21 16:22:...|          NULL|3762339|2010-09-21 16:22:...|                NULL|                  NULL|             NULL|             NULL|        4280|  3761757|          2|     0| NULL|  NULL|      NULL|\n",
            "+-----------------+------------+--------------------+-----------+-------------+--------------------+--------------------+--------------+-------+--------------------+--------------------+----------------------+-----------------+-----------------+------------+---------+-----------+------+-----+------+----------+\n",
            "\n"
          ]
        }
      ]
    },
    {
      "cell_type": "markdown",
      "source": [
        "**Загрузка и первичный анализ данных из  programming-languages.csv**"
      ],
      "metadata": {
        "id": "8Pta8Wok_NyX"
      }
    },
    {
      "cell_type": "code",
      "source": [
        "# Импорт CSV-файла с информацией о языках программирования\n",
        "prog_langs_df = spark.read.format('com.databricks.spark.csv').option('header', 'true').option(\"inferSchema\", \"true\").load('programming-languages.csv').na.drop()\n",
        "\n",
        "# Анализ структуры загруженных данных\n",
        "print(\"Структура таблицы с языками программирования:\")\n",
        "prog_langs_df.printSchema()\n",
        "print(\"\\nПримеры данных (первые 5 записей):\")\n",
        "prog_langs_df.limit(5).show()\n",
        "print(\"\\nОсновные статистические показатели:\")\n",
        "prog_langs_df.summary().show()\n",
        "print(f\"Найдено записей: {prog_langs_df.count()}\")"
      ],
      "metadata": {
        "colab": {
          "base_uri": "https://localhost:8080/"
        },
        "id": "Le6q-5mk_WbL",
        "outputId": "606813a8-eb3a-4259-8b7c-8c04fdc22a3d"
      },
      "execution_count": 20,
      "outputs": [
        {
          "output_type": "stream",
          "name": "stdout",
          "text": [
            "Структура таблицы с языками программирования:\n",
            "root\n",
            " |-- name: string (nullable = true)\n",
            " |-- wikipedia_url: string (nullable = true)\n",
            "\n",
            "\n",
            "Примеры данных (первые 5 записей):\n",
            "+----------+--------------------+\n",
            "|      name|       wikipedia_url|\n",
            "+----------+--------------------+\n",
            "|   A# .NET|https://en.wikipe...|\n",
            "|A# (Axiom)|https://en.wikipe...|\n",
            "|A-0 System|https://en.wikipe...|\n",
            "|        A+|https://en.wikipe...|\n",
            "|       A++|https://en.wikipe...|\n",
            "+----------+--------------------+\n",
            "\n",
            "\n",
            "Основные статистические показатели:\n",
            "+-------+--------+--------------------+\n",
            "|summary|    name|       wikipedia_url|\n",
            "+-------+--------+--------------------+\n",
            "|  count|     699|                 699|\n",
            "|   mean|    NULL|                NULL|\n",
            "| stddev|    NULL|                NULL|\n",
            "|    min|@Formula|https://en.wikipe...|\n",
            "|    25%|    NULL|                NULL|\n",
            "|    50%|    NULL|                NULL|\n",
            "|    75%|    NULL|                NULL|\n",
            "|    max|xHarbour|https://en.wikipe...|\n",
            "+-------+--------+--------------------+\n",
            "\n",
            "Найдено записей: 699\n"
          ]
        }
      ]
    },
    {
      "cell_type": "markdown",
      "source": [
        "**Определение языков программирования в тегах постов**"
      ],
      "metadata": {
        "id": "AsMtW2peA1q4"
      }
    },
    {
      "cell_type": "code",
      "source": [
        "# Получаем список названий языков программирования\n",
        "prog_lang_list = [row.name for row in prog_langs_df.select(\"name\").collect()]\n",
        "\n",
        "# Создаем RDD с информацией о наличии языков в тегах\n",
        "posts_with_langs = filtered_posts.rdd.map(lambda post: (post._CreationDate, next((lang for lang in prog_lang_list if f\"<{lang.lower()}>\" in str(post._Tags).lower()), 'No')))\n",
        "\n",
        "# Преобразуем обратно в DataFrame с указанием схемы\n",
        "from pyspark.sql.types import StructType, StructField, StringType, TimestampType\n",
        "\n",
        "result_schema = StructType([StructField(\"creation_date\", TimestampType()), StructField(\"language\", StringType())])\n",
        "\n",
        "posts_langs_df = spark.createDataFrame(posts_with_langs, schema=result_schema)"
      ],
      "metadata": {
        "id": "jOTyEV6VAzmg"
      },
      "execution_count": 22,
      "outputs": []
    },
    {
      "cell_type": "markdown",
      "source": [
        "**Анализ популярности языков и создание отчета**"
      ],
      "metadata": {
        "id": "QqxxWb0vCjHP"
      }
    },
    {
      "cell_type": "code",
      "source": [
        "# Преобразование DataFrame в RDD с определением языков в тегах\n",
        "posts_rdd = filtered_posts.rdd.map(lambda post: (post._CreationDate, next((lang for lang in prog_lang_list if f\"<{lang.lower()}>\" in str(post._Tags).lower()), 'No'))).filter(lambda x: x[1] != 'No')\n",
        "\n",
        "# Группировка и подсчет по году и языку\n",
        "grouped_stats = posts_rdd.keyBy(lambda row: (row[0].year, row[1])).aggregateByKey(0, lambda acc, _: acc + 1, lambda acc1, acc2: acc1 + acc2).sortBy(lambda x: x[1], ascending=False).collect()\n",
        "\n",
        "# Формирование списка годов в обратном порядке\n",
        "years = list(range(2010, 2021))[::-1]\n",
        "\n",
        "# Сбор топ-10 языков для каждого года\n",
        "top_langs = []\n",
        "for year in years:\n",
        "    yearly_data = [row for row in grouped_stats if row[0][0] == year]\n",
        "    top_langs.extend([(year, lang, count) for ((y, lang), count) in yearly_data[:10]])\n",
        "\n",
        "# Создание DataFrame через Row-объекты\n",
        "from pyspark.sql import Row\n",
        "result_row = Row('Year', 'Language', 'Count')\n",
        "result_df = spark.createDataFrame([result_row(*data) for data in top_langs])\n",
        "\n",
        "# Вывод и сохранение результатов\n",
        "print(\"Топ-10 языков программирования по годам (2010-2020):\")\n",
        "result_df.orderBy(\"Year\", \"Count\", ascending=[False, False]).show()\n",
        "\n",
        "result_df.write.mode(\"overwrite\").parquet(\"top_10_languages_by_year.parquet\")"
      ],
      "metadata": {
        "colab": {
          "base_uri": "https://localhost:8080/"
        },
        "id": "9HGp0C0xB3O-",
        "outputId": "a5dc7312-2a2b-491d-9246-b1329845e39a"
      },
      "execution_count": 30,
      "outputs": [
        {
          "output_type": "stream",
          "name": "stdout",
          "text": [
            "Топ-10 языков программирования по годам (2010-2020):\n",
            "+----+----------+-----+\n",
            "|Year|  Language|Count|\n",
            "+----+----------+-----+\n",
            "|2019|    Python|  162|\n",
            "|2019|JavaScript|  131|\n",
            "|2019|      Java|   95|\n",
            "|2019|       PHP|   59|\n",
            "|2019|         R|   36|\n",
            "|2019|         C|   14|\n",
            "|2019|      Dart|    9|\n",
            "|2019|    MATLAB|    9|\n",
            "|2019|        Go|    9|\n",
            "|2019|      Bash|    8|\n",
            "|2018|    Python|  214|\n",
            "|2018|JavaScript|  196|\n",
            "|2018|      Java|  145|\n",
            "|2018|       PHP|   99|\n",
            "|2018|         R|   63|\n",
            "|2018|         C|   24|\n",
            "|2018|     Scala|   22|\n",
            "|2018|TypeScript|   21|\n",
            "|2018|PowerShell|   13|\n",
            "|2018|      Bash|   12|\n",
            "+----+----------+-----+\n",
            "only showing top 20 rows\n",
            "\n"
          ]
        }
      ]
    }
  ]
}