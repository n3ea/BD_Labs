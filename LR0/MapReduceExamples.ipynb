{
  "cells": [
    {
      "cell_type": "markdown",
      "metadata": {
        "id": "82OvPKEiEqjc"
      },
      "source": [
        "# Введение в MapReduce модель на Python\n"
      ]
    },
    {
      "cell_type": "code",
      "execution_count": 1,
      "metadata": {
        "id": "JQ2cvXLjICmI"
      },
      "outputs": [],
      "source": [
        "from typing import NamedTuple # requires python 3.6+\n",
        "from typing import Iterator"
      ]
    },
    {
      "cell_type": "code",
      "execution_count": null,
      "metadata": {
        "id": "yjPHumVwEyEg"
      },
      "outputs": [],
      "source": [
        "def MAP(_, row:NamedTuple):\n",
        "  if (row.gender == 'female'):\n",
        "    yield (row.age, row)\n",
        "    \n",
        "def REDUCE(age:str, rows:Iterator[NamedTuple]):\n",
        "  sum = 0\n",
        "  count = 0\n",
        "  for row in rows:\n",
        "    sum += row.social_contacts\n",
        "    count += 1\n",
        "  if (count > 0):\n",
        "    yield (age, sum/count)\n",
        "  else:\n",
        "    yield (age, 0)"
      ]
    },
    {
      "cell_type": "markdown",
      "metadata": {
        "id": "vBKMgpG_ilaZ"
      },
      "source": [
        "Модель элемента данных"
      ]
    },
    {
      "cell_type": "code",
      "execution_count": null,
      "metadata": {
        "id": "Rv-XIjhTJPx3"
      },
      "outputs": [],
      "source": [
        "class User(NamedTuple):\n",
        "  id: int\n",
        "  age: str\n",
        "  social_contacts: int\n",
        "  gender: str"
      ]
    },
    {
      "cell_type": "code",
      "execution_count": null,
      "metadata": {
        "id": "5KV0Ze2vQgu5"
      },
      "outputs": [],
      "source": [
        "input_collection = [\n",
        "    User(id=0, age=55, gender='male', social_contacts=20),\n",
        "    User(id=1, age=25, gender='female', social_contacts=240),\n",
        "    User(id=2, age=25, gender='female', social_contacts=500),\n",
        "    User(id=3, age=33, gender='female', social_contacts=800)\n",
        "]"
      ]
    },
    {
      "cell_type": "markdown",
      "metadata": {
        "id": "YFeqzyZxZIFZ"
      },
      "source": [
        "Функция RECORDREADER моделирует чтение элементов с диска или по сети."
      ]
    },
    {
      "cell_type": "code",
      "execution_count": null,
      "metadata": {
        "id": "S5HR4E_GQoMJ"
      },
      "outputs": [],
      "source": [
        "def RECORDREADER():\n",
        "  return [(u.id, u) for u in input_collection]"
      ]
    },
    {
      "cell_type": "code",
      "execution_count": null,
      "metadata": {
        "colab": {
          "base_uri": "https://localhost:8080/",
          "height": 85
        },
        "id": "NeEoWla-ROUy",
        "outputId": "94ca6e0e-4644-4282-acbf-1759d7ba2918"
      },
      "outputs": [
        {
          "data": {
            "text/plain": [
              "[(0, User(id=0, age=55, social_contacts=20, gender='male')),\n",
              " (1, User(id=1, age=25, social_contacts=240, gender='female')),\n",
              " (2, User(id=2, age=25, social_contacts=500, gender='female')),\n",
              " (3, User(id=3, age=33, social_contacts=800, gender='female'))]"
            ]
          },
          "execution_count": 20,
          "metadata": {
            "tags": []
          },
          "output_type": "execute_result"
        }
      ],
      "source": [
        "list(RECORDREADER())"
      ]
    },
    {
      "cell_type": "code",
      "execution_count": null,
      "metadata": {
        "id": "YB8orgPSZs8M"
      },
      "outputs": [],
      "source": [
        "def flatten(nested_iterable):\n",
        "  for iterable in nested_iterable:\n",
        "    for element in iterable:\n",
        "      yield element"
      ]
    },
    {
      "cell_type": "code",
      "execution_count": null,
      "metadata": {
        "colab": {
          "base_uri": "https://localhost:8080/",
          "height": 68
        },
        "id": "74oyvDLaRmd5",
        "outputId": "c6147702-7153-47c7-a574-d5fe6abe29a8"
      },
      "outputs": [
        {
          "data": {
            "text/plain": [
              "[(25, User(id=1, age=25, social_contacts=240, gender='female')),\n",
              " (25, User(id=2, age=25, social_contacts=500, gender='female')),\n",
              " (33, User(id=3, age=33, social_contacts=800, gender='female'))]"
            ]
          },
          "execution_count": 22,
          "metadata": {
            "tags": []
          },
          "output_type": "execute_result"
        }
      ],
      "source": [
        "map_output = flatten(map(lambda x: MAP(*x), RECORDREADER()))\n",
        "map_output = list(map_output) # materialize\n",
        "map_output"
      ]
    },
    {
      "cell_type": "code",
      "execution_count": null,
      "metadata": {
        "id": "8ncYDJ3-VzDn"
      },
      "outputs": [],
      "source": [
        "def groupbykey(iterable):\n",
        "  t = {}\n",
        "  for (k2, v2) in iterable:\n",
        "    t[k2] = t.get(k2, []) + [v2]\n",
        "  return t.items()"
      ]
    },
    {
      "cell_type": "code",
      "execution_count": null,
      "metadata": {
        "colab": {
          "base_uri": "https://localhost:8080/",
          "height": 85
        },
        "id": "cKzY_6COWOA2",
        "outputId": "e6791b12-e409-47e9-bcd4-e9f8ca8611bd"
      },
      "outputs": [
        {
          "data": {
            "text/plain": [
              "[(25,\n",
              "  [User(id=1, age=25, social_contacts=240, gender='female'),\n",
              "   User(id=2, age=25, social_contacts=500, gender='female')]),\n",
              " (33, [User(id=3, age=33, social_contacts=800, gender='female')])]"
            ]
          },
          "execution_count": 24,
          "metadata": {
            "tags": []
          },
          "output_type": "execute_result"
        }
      ],
      "source": [
        "shuffle_output = groupbykey(map_output)\n",
        "shuffle_output = list(shuffle_output)\n",
        "shuffle_output"
      ]
    },
    {
      "cell_type": "code",
      "execution_count": null,
      "metadata": {
        "colab": {
          "base_uri": "https://localhost:8080/",
          "height": 34
        },
        "id": "NlA7lkDDYL0t",
        "outputId": "6b25d03f-5c92-4f3b-f500-6d70acd598b7"
      },
      "outputs": [
        {
          "data": {
            "text/plain": [
              "[(25, 370.0), (33, 800.0)]"
            ]
          },
          "execution_count": 25,
          "metadata": {
            "tags": []
          },
          "output_type": "execute_result"
        }
      ],
      "source": [
        "reduce_output = flatten(map(lambda x: REDUCE(*x), shuffle_output))\n",
        "reduce_output = list(reduce_output)\n",
        "reduce_output"
      ]
    },
    {
      "cell_type": "markdown",
      "metadata": {
        "id": "xf6qhHEtd6bI"
      },
      "source": [
        "Все действия одним конвейером!"
      ]
    },
    {
      "cell_type": "code",
      "execution_count": null,
      "metadata": {
        "colab": {
          "base_uri": "https://localhost:8080/",
          "height": 34
        },
        "id": "dZaQGYxCdpw5",
        "outputId": "3f5c6425-e5c5-49d2-b2cd-ce58a9acc33c"
      },
      "outputs": [
        {
          "data": {
            "text/plain": [
              "[(25, 370.0), (33, 800.0)]"
            ]
          },
          "execution_count": 26,
          "metadata": {
            "tags": []
          },
          "output_type": "execute_result"
        }
      ],
      "source": [
        "list(flatten(map(lambda x: REDUCE(*x), groupbykey(flatten(map(lambda x: MAP(*x), RECORDREADER()))))))"
      ]
    },
    {
      "cell_type": "markdown",
      "metadata": {
        "id": "Vq3EWRIpwSiJ"
      },
      "source": [
        "# **MapReduce**\n",
        "Выделим общую для всех пользователей часть системы в отдельную функцию высшего порядка. Это наиболее простая модель MapReduce, без учёта распределённого хранения данных. \n",
        "\n",
        "Пользователь для решения своей задачи реализует RECORDREADER, MAP, REDUCE."
      ]
    },
    {
      "cell_type": "code",
      "execution_count": 4,
      "metadata": {
        "id": "V1PZeQMwwVjc"
      },
      "outputs": [],
      "source": [
        "def flatten(nested_iterable):\n",
        "  for iterable in nested_iterable:\n",
        "    for element in iterable:\n",
        "      yield element\n",
        "\n",
        "def groupbykey(iterable):\n",
        "  t = {}\n",
        "  for (k2, v2) in iterable:\n",
        "    t[k2] = t.get(k2, []) + [v2]\n",
        "  return t.items()\n",
        "\n",
        "def MapReduce(RECORDREADER, MAP, REDUCE):\n",
        "  return flatten(map(lambda x: REDUCE(*x), groupbykey(flatten(map(lambda x: MAP(*x), RECORDREADER())))))"
      ]
    },
    {
      "cell_type": "markdown",
      "metadata": {
        "id": "iFIVrimep678"
      },
      "source": [
        "## Спецификация MapReduce\n",
        "\n",
        "\n",
        "\n",
        "```\n",
        "f (k1, v1) -> (k2,v2)*\n",
        "g (k2, v2*) -> (k3,v3)*\n",
        " \n",
        "mapreduce ((k1,v1)*) -> (k3,v3)*\n",
        "groupby ((k2,v2)*) -> (k2,v2*)*\n",
        "flatten (e2**) -> e2*\n",
        " \n",
        "mapreduce .map(f).flatten.groupby(k2).map(g).flatten\n",
        "```\n",
        "\n",
        "\n"
      ]
    },
    {
      "cell_type": "markdown",
      "metadata": {
        "id": "QtTFyqke3KGe"
      },
      "source": [
        "# Примеры"
      ]
    },
    {
      "cell_type": "markdown",
      "metadata": {
        "id": "BNhh5763w5Vn"
      },
      "source": [
        "## SQL "
      ]
    },
    {
      "cell_type": "code",
      "execution_count": null,
      "metadata": {
        "colab": {
          "base_uri": "https://localhost:8080/",
          "height": 34
        },
        "id": "QkyurnvGxBGk",
        "outputId": "84761282-d2ba-435a-e8d7-a85150730e10"
      },
      "outputs": [
        {
          "data": {
            "text/plain": [
              "[(25, 370.0), (33, 800.0)]"
            ]
          },
          "execution_count": 28,
          "metadata": {
            "tags": []
          },
          "output_type": "execute_result"
        }
      ],
      "source": [
        "from typing import NamedTuple # requires python 3.6+\n",
        "from typing import Iterator\n",
        "\n",
        "class User(NamedTuple):\n",
        "  id: int\n",
        "  age: str\n",
        "  social_contacts: int\n",
        "  gender: str\n",
        "    \n",
        "input_collection = [\n",
        "    User(id=0, age=55, gender='male', social_contacts=20),\n",
        "    User(id=1, age=25, gender='female', social_contacts=240),\n",
        "    User(id=2, age=25, gender='female', social_contacts=500),\n",
        "    User(id=3, age=33, gender='female', social_contacts=800)\n",
        "]\n",
        "\n",
        "def MAP(_, row:NamedTuple):\n",
        "  if (row.gender == 'female'):\n",
        "    yield (row.age, row)\n",
        "    \n",
        "def REDUCE(age:str, rows:Iterator[NamedTuple]):\n",
        "  sum = 0\n",
        "  count = 0\n",
        "  for row in rows:\n",
        "    sum += row.social_contacts\n",
        "    count += 1\n",
        "  if (count > 0):\n",
        "    yield (age, sum/count)\n",
        "  else:\n",
        "    yield (age, 0)\n",
        " \n",
        "def RECORDREADER():\n",
        "  return [(u.id, u) for u in input_collection]\n",
        "\n",
        "output = MapReduce(RECORDREADER, MAP, REDUCE)\n",
        "output = list(output)\n",
        "output"
      ]
    },
    {
      "cell_type": "markdown",
      "metadata": {
        "id": "kNKYIeerx0nY"
      },
      "source": [
        "## Matrix-Vector multiplication "
      ]
    },
    {
      "cell_type": "code",
      "execution_count": null,
      "metadata": {
        "colab": {
          "base_uri": "https://localhost:8080/",
          "height": 102
        },
        "id": "rwcntRcCyi1V",
        "outputId": "606737ab-6b55-455c-931f-4fc45155f8a9"
      },
      "outputs": [
        {
          "data": {
            "text/plain": [
              "[(0, 2.905589809636405),\n",
              " (1, 2.905589809636405),\n",
              " (2, 2.905589809636405),\n",
              " (3, 2.905589809636405),\n",
              " (4, 2.905589809636405)]"
            ]
          },
          "execution_count": 29,
          "metadata": {
            "tags": []
          },
          "output_type": "execute_result"
        }
      ],
      "source": [
        "from typing import Iterator\n",
        "import numpy as np\n",
        "\n",
        "mat = np.ones((5,4))\n",
        "vec = np.random.rand(4) # in-memory vector in all map tasks\n",
        "\n",
        "def MAP(coordinates:(int, int), value:int):\n",
        "  i, j = coordinates\n",
        "  yield (i, value*vec[j])\n",
        " \n",
        "def REDUCE(i:int, products:Iterator[NamedTuple]):\n",
        "  sum = 0\n",
        "  for p in products:\n",
        "    sum += p\n",
        "  yield (i, sum)\n",
        "\n",
        "def RECORDREADER():\n",
        "  for i in range(mat.shape[0]):\n",
        "    for j in range(mat.shape[1]):\n",
        "      yield ((i, j), mat[i,j])\n",
        "      \n",
        "output = MapReduce(RECORDREADER, MAP, REDUCE)\n",
        "output = list(output)\n",
        "output"
      ]
    },
    {
      "cell_type": "markdown",
      "metadata": {
        "id": "ruZREYdi2o4O"
      },
      "source": [
        "## Inverted index "
      ]
    },
    {
      "cell_type": "code",
      "execution_count": null,
      "metadata": {
        "colab": {
          "base_uri": "https://localhost:8080/",
          "height": 102
        },
        "id": "vt9H9Alf3TYv",
        "outputId": "51aeffc9-e111-4607-bd84-cfcc7b56f238"
      },
      "outputs": [
        {
          "data": {
            "text/plain": [
              "[('what', ['0', '1']),\n",
              " ('is', ['0', '1', '2']),\n",
              " ('it', ['0', '1', '2']),\n",
              " ('a', ['2']),\n",
              " ('banana', ['2'])]"
            ]
          },
          "execution_count": 30,
          "metadata": {
            "tags": []
          },
          "output_type": "execute_result"
        }
      ],
      "source": [
        "from typing import Iterator\n",
        "\n",
        "d1 = \"it is what it is\"\n",
        "d2 = \"what is it\"\n",
        "d3 = \"it is a banana\"\n",
        "documents = [d1, d2, d3]\n",
        "\n",
        "def RECORDREADER():\n",
        "  for (docid, document) in enumerate(documents):\n",
        "    yield (\"{}\".format(docid), document)\n",
        "      \n",
        "def MAP(docId:str, body:str):\n",
        "  for word in set(body.split(' ')):\n",
        "    yield (word, docId)\n",
        " \n",
        "def REDUCE(word:str, docIds:Iterator[str]):\n",
        "  yield (word, sorted(docIds))\n",
        "\n",
        "output = MapReduce(RECORDREADER, MAP, REDUCE)\n",
        "output = list(output)\n",
        "output"
      ]
    },
    {
      "cell_type": "markdown",
      "metadata": {
        "id": "R7az-6DA6qr2"
      },
      "source": [
        "## WordCount"
      ]
    },
    {
      "cell_type": "code",
      "execution_count": null,
      "metadata": {
        "colab": {
          "base_uri": "https://localhost:8080/",
          "height": 34
        },
        "id": "dN-nbtgG6uYG",
        "outputId": "24117576-7931-401d-a581-28e246b23453"
      },
      "outputs": [
        {
          "data": {
            "text/plain": [
              "[('', 3), ('it', 9), ('is', 9), ('what', 5), ('a', 1), ('banana', 1)]"
            ]
          },
          "execution_count": 31,
          "metadata": {
            "tags": []
          },
          "output_type": "execute_result"
        }
      ],
      "source": [
        "from typing import Iterator\n",
        "\n",
        "d1 = \"\"\"\n",
        "it is what it is\n",
        "it is what it is\n",
        "it is what it is\"\"\"\n",
        "d2 = \"\"\"\n",
        "what is it\n",
        "what is it\"\"\"\n",
        "d3 = \"\"\"\n",
        "it is a banana\"\"\"\n",
        "documents = [d1, d2, d3]\n",
        "\n",
        "def RECORDREADER():\n",
        "  for (docid, document) in enumerate(documents):\n",
        "    for (lineid, line) in enumerate(document.split('\\n')):\n",
        "      yield (\"{}:{}\".format(docid,lineid), line)\n",
        "\n",
        "def MAP(docId:str, line:str):\n",
        "  for word in line.split(\" \"):  \n",
        "    yield (word, 1)\n",
        " \n",
        "def REDUCE(word:str, counts:Iterator[int]):\n",
        "  sum = 0\n",
        "  for c in counts:\n",
        "    sum += c\n",
        "  yield (word, sum)\n",
        "\n",
        "output = MapReduce(RECORDREADER, MAP, REDUCE)\n",
        "output = list(output)\n",
        "output"
      ]
    },
    {
      "cell_type": "markdown",
      "metadata": {
        "id": "h-jRAcYCAkkk"
      },
      "source": [
        "# MapReduce Distributed\n",
        "\n",
        "Добавляется в модель фабрика RECORDREARER-ов --- INPUTFORMAT, функция распределения промежуточных результатов по партициям PARTITIONER, и функция COMBINER для частичной аггрегации промежуточных результатов до распределения по новым партициям."
      ]
    },
    {
      "cell_type": "code",
      "execution_count": null,
      "metadata": {
        "id": "nw-b-xJsApgW"
      },
      "outputs": [],
      "source": [
        "def flatten(nested_iterable):\n",
        "  for iterable in nested_iterable:\n",
        "    for element in iterable:\n",
        "      yield element\n",
        "\n",
        "def groupbykey(iterable):\n",
        "  t = {}\n",
        "  for (k2, v2) in iterable:\n",
        "    t[k2] = t.get(k2, []) + [v2]\n",
        "  return t.items()\n",
        "      \n",
        "def groupbykey_distributed(map_partitions, PARTITIONER):\n",
        "  global reducers\n",
        "  partitions = [dict() for _ in range(reducers)]\n",
        "  for map_partition in map_partitions:\n",
        "    for (k2, v2) in map_partition:\n",
        "      p = partitions[PARTITIONER(k2)]\n",
        "      p[k2] = p.get(k2, []) + [v2]\n",
        "  return [(partition_id, sorted(partition.items(), key=lambda x: x[0])) for (partition_id, partition) in enumerate(partitions)]\n",
        " \n",
        "def PARTITIONER(obj):\n",
        "  global reducers\n",
        "  return hash(obj) % reducers\n",
        "  \n",
        "def MapReduceDistributed(INPUTFORMAT, MAP, REDUCE, PARTITIONER=PARTITIONER, COMBINER=None):\n",
        "  map_partitions = map(lambda record_reader: flatten(map(lambda k1v1: MAP(*k1v1), record_reader)), INPUTFORMAT())\n",
        "  if COMBINER != None:\n",
        "    map_partitions = map(lambda map_partition: flatten(map(lambda k2v2: COMBINER(*k2v2), groupbykey(map_partition))), map_partitions)\n",
        "  reduce_partitions = groupbykey_distributed(map_partitions, PARTITIONER) # shuffle\n",
        "  reduce_outputs = map(lambda reduce_partition: (reduce_partition[0], flatten(map(lambda reduce_input_group: REDUCE(*reduce_input_group), reduce_partition[1]))), reduce_partitions)\n",
        "  \n",
        "  print(\"{} key-value pairs were sent over a network.\".format(sum([len(vs) for (k,vs) in flatten([partition for (partition_id, partition) in reduce_partitions])])))\n",
        "  return reduce_outputs"
      ]
    },
    {
      "cell_type": "markdown",
      "metadata": {
        "id": "kxirlf3XqZxY"
      },
      "source": [
        "## Спецификация MapReduce Distributed\n",
        "\n",
        "\n",
        "```\n",
        "f (k1, v1) -> (k2,v2)*\n",
        "g (k2, v2*) -> (k3,v3)*\n",
        " \n",
        "e1 (k1, v1)\n",
        "e2 (k2, v2)\n",
        "partition1 (k2, v2)*\n",
        "partition2 (k2, v2*)*\n",
        " \n",
        "flatmap (e1->e2*, e1*) -> partition1*\n",
        "groupby (partition1*) -> partition2*\n",
        "\n",
        "mapreduce ((k1,v1)*) -> (k3,v3)*\n",
        "mapreduce .flatmap(f).groupby(k2).flatmap(g)\n",
        "```\n",
        "\n"
      ]
    },
    {
      "cell_type": "markdown",
      "metadata": {
        "id": "CWYw_CpbbY3C"
      },
      "source": [
        "## WordCount "
      ]
    },
    {
      "cell_type": "code",
      "execution_count": null,
      "metadata": {
        "colab": {
          "base_uri": "https://localhost:8080/",
          "height": 68
        },
        "id": "uR_zfGFkMZlp",
        "outputId": "c8d46167-473d-43b9-881a-2396991b3731"
      },
      "outputs": [
        {
          "name": "stdout",
          "output_type": "stream",
          "text": [
            "56 key-value pairs were sent over a network.\n"
          ]
        },
        {
          "data": {
            "text/plain": [
              "[(0, [('', 6), ('a', 2), ('banana', 2), ('is', 18), ('it', 18), ('what', 10)]),\n",
              " (1, [])]"
            ]
          },
          "execution_count": 33,
          "metadata": {
            "tags": []
          },
          "output_type": "execute_result"
        }
      ],
      "source": [
        "from typing import Iterator\n",
        "import numpy as np\n",
        "\n",
        "d1 = \"\"\"\n",
        "it is what it is\n",
        "it is what it is\n",
        "it is what it is\"\"\"\n",
        "d2 = \"\"\"\n",
        "what is it\n",
        "what is it\"\"\"\n",
        "d3 = \"\"\"\n",
        "it is a banana\"\"\"\n",
        "documents = [d1, d2, d3, d1, d2, d3]\n",
        "\n",
        "maps = 3\n",
        "reducers = 2\n",
        "\n",
        "def INPUTFORMAT():\n",
        "  global maps\n",
        "  \n",
        "  def RECORDREADER(split):\n",
        "    for (docid, document) in enumerate(split):\n",
        "      for (lineid, line) in enumerate(document.split('\\n')):\n",
        "        yield (\"{}:{}\".format(docid,lineid), line)\n",
        "      \n",
        "  split_size =  int(np.ceil(len(documents)/maps))\n",
        "  for i in range(0, len(documents), split_size):\n",
        "    yield RECORDREADER(documents[i:i+split_size])\n",
        "\n",
        "def MAP(docId:str, line:str):\n",
        "  for word in line.split(\" \"):  \n",
        "    yield (word, 1)\n",
        " \n",
        "def REDUCE(word:str, counts:Iterator[int]):\n",
        "  sum = 0\n",
        "  for c in counts:\n",
        "    sum += c\n",
        "  yield (word, sum)\n",
        "  \n",
        "# try to set COMBINER=REDUCER and look at the number of values sent over the network \n",
        "partitioned_output = MapReduceDistributed(INPUTFORMAT, MAP, REDUCE, COMBINER=None) \n",
        "partitioned_output = [(partition_id, list(partition)) for (partition_id, partition) in partitioned_output]\n",
        "partitioned_output"
      ]
    },
    {
      "cell_type": "markdown",
      "metadata": {
        "id": "gCJGx8IQ87xS"
      },
      "source": [
        "## TeraSort"
      ]
    },
    {
      "cell_type": "code",
      "execution_count": null,
      "metadata": {
        "colab": {
          "base_uri": "https://localhost:8080/",
          "height": 578
        },
        "id": "P2v8v1v_8_YR",
        "outputId": "e0987c25-9757-46cb-8e55-d5d2adfbee2b"
      },
      "outputs": [
        {
          "name": "stdout",
          "output_type": "stream",
          "text": [
            "30 key-value pairs were sent over a network.\n"
          ]
        },
        {
          "data": {
            "text/plain": [
              "[(0,\n",
              "  [(None, 0.0059671639991895065),\n",
              "   (None, 0.07724245496172),\n",
              "   (None, 0.08440804135613444),\n",
              "   (None, 0.13575647907181598),\n",
              "   (None, 0.14404826813474803),\n",
              "   (None, 0.21204275967955666),\n",
              "   (None, 0.21869633101751806),\n",
              "   (None, 0.25055756276216923),\n",
              "   (None, 0.28642389538931257),\n",
              "   (None, 0.3834487515438496),\n",
              "   (None, 0.3913614390023946),\n",
              "   (None, 0.4041378102237341),\n",
              "   (None, 0.41854626274930695),\n",
              "   (None, 0.4704310153549396),\n",
              "   (None, 0.4776995227348928),\n",
              "   (None, 0.48992216726013693)]),\n",
              " (1,\n",
              "  [(None, 0.5005353544023048),\n",
              "   (None, 0.5135664686748047),\n",
              "   (None, 0.53391984417089),\n",
              "   (None, 0.5587932025401512),\n",
              "   (None, 0.5673804905854288),\n",
              "   (None, 0.6926646597910275),\n",
              "   (None, 0.7237444251339501),\n",
              "   (None, 0.7557883138083207),\n",
              "   (None, 0.785709769245918),\n",
              "   (None, 0.7937098630029404),\n",
              "   (None, 0.7942646850708935),\n",
              "   (None, 0.9160468126494941),\n",
              "   (None, 0.9618068292060864),\n",
              "   (None, 0.9820764489731459)])]"
            ]
          },
          "execution_count": 34,
          "metadata": {
            "tags": []
          },
          "output_type": "execute_result"
        }
      ],
      "source": [
        "import numpy as np\n",
        "\n",
        "input_values = np.random.rand(30)\n",
        "maps = 3\n",
        "reducers = 2\n",
        "min_value = 0.0\n",
        "max_value = 1.0\n",
        "\n",
        "def INPUTFORMAT():\n",
        "  global maps\n",
        "  \n",
        "  def RECORDREADER(split):\n",
        "    for value in split:\n",
        "        yield (value, None)\n",
        "      \n",
        "  split_size =  int(np.ceil(len(input_values)/maps))\n",
        "  for i in range(0, len(input_values), split_size):\n",
        "    yield RECORDREADER(input_values[i:i+split_size])\n",
        "    \n",
        "def MAP(value:int, _):\n",
        "  yield (value, None)\n",
        "  \n",
        "def PARTITIONER(key):\n",
        "  global reducers\n",
        "  global max_value\n",
        "  global min_value\n",
        "  bucket_size = (max_value-min_value)/reducers\n",
        "  bucket_id = 0\n",
        "  while((key>(bucket_id+1)*bucket_size) and ((bucket_id+1)*bucket_size<max_value)):\n",
        "    bucket_id += 1\n",
        "  return bucket_id\n",
        "\n",
        "def REDUCE(value:int, _):\n",
        "  yield (None,value)\n",
        "  \n",
        "partitioned_output = MapReduceDistributed(INPUTFORMAT, MAP, REDUCE, COMBINER=None, PARTITIONER=PARTITIONER)\n",
        "partitioned_output = [(partition_id, list(partition)) for (partition_id, partition) in partitioned_output]\n",
        "partitioned_output"
      ]
    },
    {
      "cell_type": "code",
      "execution_count": null,
      "metadata": {
        "id": "MQhoJaVZI93G"
      },
      "outputs": [],
      "source": []
    },
    {
      "cell_type": "markdown",
      "metadata": {
        "id": "Iy65YJTH99iT"
      },
      "source": [
        "# Упражнения\n",
        "Упражнения взяты из Rajaraman A., Ullman J. D. Mining of massive datasets. – Cambridge University Press, 2011.\n",
        "\n",
        "\n",
        "Для выполнения заданий переопределите функции RECORDREADER, MAP, REDUCE. Для модели распределённой системы может потребоваться переопределение функций PARTITION и COMBINER."
      ]
    },
    {
      "cell_type": "markdown",
      "metadata": {
        "id": "cfvAeZm3S8S8"
      },
      "source": [
        "### Максимальное значение ряда\n",
        "\n",
        "Разработайте MapReduce алгоритм, который находит максимальное число входного списка чисел."
      ]
    },
    {
      "cell_type": "code",
      "execution_count": 17,
      "metadata": {
        "id": "3GRA1JR-Tkbg"
      },
      "outputs": [
        {
          "name": "stdout",
          "output_type": "stream",
          "text": [
            "Сгенерированный список чисел: [26, 15, 56, 74, 86, 70, 16, 58, 75, 52]\n",
            "Максимальное значение: ('num_4', 86)\n"
          ]
        }
      ],
      "source": [
        "import random\n",
        "from functools import reduce\n",
        "\n",
        "# Присваиваем каждому числу уникальный ключ\n",
        "def MAP(index: int, value: int):\n",
        "    return (f\"num_{index}\", value) \n",
        "\n",
        "# Выбираем максимальное число из значений\n",
        "def REDUCE(pair1, pair2):\n",
        "    return pair1 if pair1[1] > pair2[1] else pair2\n",
        "\n",
        "# Генерируем список случайных чисел\n",
        "def RECORDREADER(size, lb=0, ub=100):\n",
        "    return [random.randint(lb, ub) for _ in range(size)]\n",
        "\n",
        "\n",
        "record = RECORDREADER(10)\n",
        "print(\"Сгенерированный список чисел:\", record)\n",
        "\n",
        "# Применяем MAP, создавая пары (ключ, значение)\n",
        "mapped_values = [MAP(index, value) for index, value in enumerate(record)]\n",
        "\n",
        "# Применяем REDUCE для нахождения максимального значения\n",
        "result = reduce(REDUCE, mapped_values)\n",
        "\n",
        "print(\"Максимальное значение:\", result)\n"
      ]
    },
    {
      "cell_type": "markdown",
      "metadata": {
        "id": "k86bXnqZTk-U"
      },
      "source": [
        "### Арифметическое среднее\n",
        "\n",
        "Разработайте MapReduce алгоритм, который находит арифметическое среднее.\n",
        "\n",
        "$$\\overline{X} = \\frac{1}{n}\\sum_{i=0}^{n} x_i$$\n"
      ]
    },
    {
      "cell_type": "code",
      "execution_count": null,
      "metadata": {
        "id": "MPoY5pkfUNZf"
      },
      "outputs": [
        {
          "name": "stdout",
          "output_type": "stream",
          "text": [
            "Сгенерированный список чисел: [51, 16, 38, 97, 100, 99, 40, 0, 58, 25]\n",
            "Среднее арифметическое: 52.4\n"
          ]
        }
      ],
      "source": [
        "import random\n",
        "from functools import reduce\n",
        "from typing import Iterator, Tuple\n",
        "\n",
        "def MAP(value: int):\n",
        "    yield (1, value)  \n",
        "\n",
        "# Вычисляем среднее арифметическое\n",
        "def REDUCE(key, nums: Iterator[Tuple[int, int]]):\n",
        "    total_sum = sum(n for _, n in nums)                         # Ищем сумму\n",
        "    total_count = len(nums)                                     # Сохраняем количество элементов\n",
        "    return total_sum / total_count if total_count > 0 else 0\n",
        "\n",
        "\n",
        "def RECORDREADER(size, lb=0, ub=100):\n",
        "    return [random.randint(lb, ub) for _ in range(size)]\n",
        "\n",
        "\n",
        "record = RECORDREADER(10)\n",
        "print(\"Сгенерированный список чисел:\", record)\n",
        "\n",
        "\n",
        "mapped_values = [pair for value in record for pair in MAP(value)]  \n",
        "\n",
        "result = REDUCE(\"sum_count\", mapped_values)\n",
        "print(\"Среднее арифметическое:\", result)\n"
      ]
    },
    {
      "cell_type": "markdown",
      "metadata": {
        "id": "xanzszhsIlLe"
      },
      "source": [
        "### GroupByKey на основе сортировки\n",
        "\n",
        "Реализуйте groupByKey на основе сортировки, проверьте его работу на примерах"
      ]
    },
    {
      "cell_type": "code",
      "execution_count": null,
      "metadata": {
        "id": "hQPn3USsIkEC"
      },
      "outputs": [
        {
          "name": "stdout",
          "output_type": "stream",
          "text": [
            "Сгенерированный список чисел: [74, 29, 60, 66, 86, 1, 2, 20, 84, 99]\n",
            "Mapped values (ключ, значение): [(1, 74), (1, 29), (1, 60), (1, 66), (1, 86), (1, 1), (1, 2), (1, 20), (1, 84), (1, 99)]\n",
            "Grouped values: {1: [74, 29, 60, 66, 86, 1, 2, 20, 84, 99]}\n",
            "Среднее арифметическое: [(1, 52.1)]\n"
          ]
        }
      ],
      "source": [
        "import random\n",
        "from typing import Iterator\n",
        "from itertools import groupby\n",
        "\n",
        "def MAP(value: int):\n",
        "    yield (1, value)  \n",
        "\n",
        "# Функция для группировки по ключу\n",
        "def groupByKey(mapped_values):\n",
        "    sorted_values = sorted(mapped_values, key=lambda x: x[0])                                                       # Сортируем список по ключу\n",
        "    grouped = {key: list(map(lambda x: x[1], group)) for key, group in groupby(sorted_values, key=lambda x: x[0])}  # Группируем по ключу\n",
        "    return grouped\n",
        "\n",
        "def REDUCE(key, nums: Iterator[int]):\n",
        "    total_sum = sum(nums)  \n",
        "    total_count = len(nums)  \n",
        "    return key, total_sum / total_count if total_count > 0 else 0\n",
        "\n",
        "\n",
        "def RECORDREADER(size, lb=0, ub=100):\n",
        "    return [random.randint(lb, ub) for _ in range(size)]\n",
        "\n",
        "\n",
        "record = RECORDREADER(10)\n",
        "print(\"Сгенерированный список чисел:\", record)\n",
        "\n",
        "mapped_values = [pair for value in record for pair in MAP(value)] \n",
        "print(\"Mapped values (ключ, значение):\", mapped_values)  \n",
        "\n",
        "grouped_values = groupByKey(mapped_values)\n",
        "print(\"Grouped values:\", grouped_values) \n",
        "\n",
        "results = [REDUCE(key, values) for key, values in grouped_values.items()]\n",
        "print(\"Среднее арифметическое:\", results)\n"
      ]
    },
    {
      "cell_type": "markdown",
      "metadata": {
        "id": "5SgEjCZyGnu6"
      },
      "source": [
        "### Drop duplicates (set construction, unique elements, distinct)\n",
        "\n",
        "Реализуйте распределённую операцию исключения дубликатов"
      ]
    },
    {
      "cell_type": "code",
      "execution_count": 1,
      "metadata": {
        "id": "okjbyApjGhMt"
      },
      "outputs": [
        {
          "name": "stdout",
          "output_type": "stream",
          "text": [
            "88 key-value pairs were sent over a network.\n",
            "[(0, ['Big', 'Deep', 'Distributed', 'a', 'accurate.', 'analyze', 'and', 'applications.', 'combines', 'computing', 'data', 'domain', 'enhances', 'expertise', 'extract', 'extraction.', 'human', 'industries', 'information', 'infrastructure', 'learning', 'machine', 'mimic', 'more', 'of', 'performance.', 'processing', 'provides', 'recognize', 'reliability', 'revolutionizing', 'science', 'specializes', 'subset', 'that', 'to', 'tolerance', 'vast']), (1, ['Artificial', 'Cloud', 'Data', 'Machine', 'Neural', 'allows', 'amounts', 'automation', 'brain', 'businesses', 'by', 'decision-making', 'enables', 'fault', 'feature', 'for', 'hidden', 'improve', 'in', 'insights.', 'intelligence', 'is', 'large-scale', 'making', 'networks', 'optimize', 'patterns', 'predictions', 'processes.', 'programming,', 'scalable', 'statistics,', 'storage.', 'systems', 'the', 'trends.', 'uncover'])]\n"
          ]
        }
      ],
      "source": [
        "from typing import Iterator\n",
        "import numpy as np\n",
        "\n",
        "\n",
        "# Разворачиваем вложенные списки\n",
        "def flatten(nested_iterable):\n",
        "    for iterable in nested_iterable:\n",
        "        for element in iterable:\n",
        "            yield element\n",
        "\n",
        "\n",
        "\n",
        "def groupbykey(iterable):\n",
        "    grouped_data = {}\n",
        "    for key, value in iterable:\n",
        "        grouped_data.setdefault(key, []).append(value)          # Линеарно добавляем элементы\n",
        "    return list(grouped_data.items())                           # Возвращаем список кортежей\n",
        "\n",
        "\n",
        "# Распределенная группировка данных по ключу \n",
        "def groupbykey_distributed(map_partitions, PARTITIONER):\n",
        "    global reducers                                             \n",
        "    partitions = [dict() for _ in range(reducers)]              # Создаём столько пустых разделов в виде словарей, сколько есть редьюсеров\n",
        "    for map_partition in map_partitions:\n",
        "        for key, value in map_partition:\n",
        "            p = partitions[PARTITIONER(key)]                    # Определяем, в какой раздел отправить ключ\n",
        "            p.setdefault(key, []).append(value)                 # Добавляем value в список значений для соответствующего key в разделе p\n",
        "    return [(partition_id, sorted(partition.items(), key=lambda x: x[0])) for (partition_id, partition) in enumerate(partitions)]\n",
        "\n",
        "def PARTITIONER(obj):\n",
        "    global reducers\n",
        "    return hash(obj) % reducers                                  # Равномерно распределять ключи между reducers по хэшу\n",
        "\n",
        "\n",
        "# Распределенная обработка данных\n",
        "def MapReduceDistributed(INPUTFORMAT, MAP, REDUCE, PARTITIONER=PARTITIONER, COMBINER=None):\n",
        "    map_partitions = map(lambda record_reader: flatten(map(lambda k1v1: MAP(*k1v1), record_reader)), INPUTFORMAT())\n",
        "    if COMBINER is not None:\n",
        "        map_partitions = map(lambda map_partition: flatten(map(lambda k2v2: COMBINER(*k2v2), groupbykey(map_partition))), map_partitions)\n",
        "    reduce_partitions = groupbykey_distributed(map_partitions, PARTITIONER)\n",
        "    reduce_outputs = map(lambda reduce_partition: (reduce_partition[0], flatten(map(lambda reduce_input_group: REDUCE(*reduce_input_group),\n",
        "                                                                                    reduce_partition[1]))), reduce_partitions)\n",
        "    total_values_sent = sum([len(vs) for (k, vs) in flatten([partition for (partition_id, partition) in reduce_partitions])])\n",
        "    print(f\"{total_values_sent} key-value pairs were sent over a network.\")\n",
        "    return reduce_outputs\n",
        "\n",
        "# Данные\n",
        "documents = [\n",
        "    \"Big data allows businesses to analyze vast amounts of information and uncover hidden trends.\\n\"\n",
        "    \"Machine learning is revolutionizing industries by making predictions more accurate.\",\n",
        "    \n",
        "    \"Cloud computing provides scalable infrastructure for data processing and storage.\\n\"\n",
        "    \"Artificial intelligence enables automation and enhances decision-making processes.\",\n",
        "\n",
        "    \"Distributed systems improve fault tolerance and reliability for large-scale applications.\\n\"\n",
        "    \"Data science combines statistics, programming, and domain expertise to extract insights.\",\n",
        "\n",
        "    \"Neural networks mimic the human brain to recognize patterns and optimize performance.\\n\"\n",
        "    \"Deep learning is a subset of machine learning that specializes in feature extraction.\"\n",
        "]\n",
        "\n",
        "\n",
        "maps = 2\n",
        "reducers = 2\n",
        "\n",
        "# Чтение данных\n",
        "def INPUTFORMAT():\n",
        "    global maps\n",
        "    def RECORDREADER(split):\n",
        "        for (docid, document) in enumerate(split):\n",
        "            for (lineid, line) in enumerate(document.split('\\n')):\n",
        "                yield (\"{}:{}\".format(docid, lineid), line)\n",
        "    split_size = int(np.ceil(len(documents) / maps))\n",
        "    for i in range(0, len(documents), split_size):\n",
        "        yield RECORDREADER(documents[i:i + split_size])\n",
        "\n",
        "def MAP(docId: str, line: str):\n",
        "    for word in line.split(\" \"):\n",
        "        yield (word, word)\n",
        "\n",
        "def REDUCE(key: str, value: Iterator[str]):\n",
        "    yield key\n",
        "\n",
        "partitioned_output = MapReduceDistributed(INPUTFORMAT, MAP, REDUCE, COMBINER=None)\n",
        "partitioned_output = [(partition_id, list(partition)) for (partition_id, partition) in partitioned_output]\n",
        "print(partitioned_output)\n"
      ]
    },
    {
      "cell_type": "markdown",
      "metadata": {
        "id": "e7sRGoTXuJze"
      },
      "source": [
        "#Операторы реляционной алгебры\n",
        "### Selection (Выборка)\n",
        "\n",
        "**The Map Function**: Для  каждого кортежа $t \\in R$ вычисляется истинность предиката $C$. В случае истины создаётся пара ключ-значение $(t, t)$. В паре ключ и значение одинаковы, равны $t$.\n",
        "\n",
        "**The Reduce Function:** Роль функции Reduce выполняет функция идентичности, которая возвращает то же значение, что получила на вход.\n",
        "\n"
      ]
    },
    {
      "cell_type": "code",
      "execution_count": null,
      "metadata": {
        "id": "4nKIKe59uIfc"
      },
      "outputs": [
        {
          "name": "stdout",
          "output_type": "stream",
          "text": [
            "Сгенерированные записи: [(54, 22, 63, 95), (100, 75, 87, 95), (23, 46, 36, 4), (40, 21, 23, 26), (48, 53, 20, 96), (42, 3, 22, 55), (86, 61, 30, 59), (99, 58, 12, 23), (66, 90, 97, 33), (31, 94, 9, 87)]\n",
            "Записи после разбиения на части: [[(54, 22, 63, 95), (100, 75, 87, 95), (23, 46, 36, 4)], [(40, 21, 23, 26), (48, 53, 20, 96), (42, 3, 22, 55)], [(86, 61, 30, 59), (99, 58, 12, 23), (66, 90, 97, 33)], [(31, 94, 9, 87)]]\n",
            "Результаты MAP: [dict_items([((54, 22, 63, 95), [(54, 22, 63, 95)]), ((100, 75, 87, 95), [(100, 75, 87, 95)])]), dict_items([]), dict_items([((86, 61, 30, 59), [(86, 61, 30, 59)]), ((99, 58, 12, 23), [(99, 58, 12, 23)]), ((66, 90, 97, 33), [(66, 90, 97, 33)])]), dict_items([])]\n",
            "Финальный результат после REDUCE: [(54, 22, 63, 95), [(54, 22, 63, 95)], (100, 75, 87, 95), [(100, 75, 87, 95)], (86, 61, 30, 59), [(86, 61, 30, 59)], (99, 58, 12, 23), [(99, 58, 12, 23)], (66, 90, 97, 33), [(66, 90, 97, 33)]]\n"
          ]
        }
      ],
      "source": [
        "from collections import defaultdict\n",
        "import random\n",
        "\n",
        "def MAP(el_list, predicate):\n",
        "    mapped_result = defaultdict(list)\n",
        "    for t in el_list:                                # Проходим по каждому элементу и применяем предикат\n",
        "        if predicate(t):                             # Проверяем условие\n",
        "            mapped_result[t].append(t)               # Добавляем кортеж в результат\n",
        "\n",
        "    return mapped_result.items()\n",
        "\n",
        "def REDUCE(mapped_items):\n",
        "    reduced_result = []\n",
        "    for values in mapped_items:                     # Проходим по каждой паре и добавляем элементы в итоговый список\n",
        "        for value in values:\n",
        "            reduced_result.append(value)            \n",
        "    return reduced_result\n",
        "\n",
        "# Предикат для фильтрации кортежей (первый элемент больше 50)\n",
        "def first_element_greater_than_50(t):\n",
        "    return t[0] > 50\n",
        "\n",
        "# Функция для генерации случайных записей (кортежей)\n",
        "def generate_random_records(count, num_elements):\n",
        "    return [tuple(random.randint(0, 100) for _ in range(num_elements)) for _ in range(count)]\n",
        "\n",
        "# Пример разбиения данных на части\n",
        "def partition_records(records, part_size):\n",
        "    return [records[i:i + part_size] for i in range(0, len(records), part_size)]     # Разбиваеv список записей на части заданного размера\n",
        "\n",
        "# Генерация случайных данных для теста\n",
        "records = generate_random_records(10, 4)  \n",
        "print(f\"Сгенерированные записи: {records}\")\n",
        "\n",
        "# Разбиение данных на части\n",
        "partitioned_records = partition_records(records, 3)  \n",
        "print(f\"Записи после разбиения на части: {partitioned_records}\")\n",
        "\n",
        "\n",
        "mapped_results = list(map(lambda x: MAP(x, first_element_greater_than_50), partitioned_records))\n",
        "print(f\"Результаты MAP: {mapped_results}\")\n",
        "\n",
        "final_result = REDUCE([item for sublist in mapped_results for item in sublist])\n",
        "print(f\"Финальный результат после REDUCE: {final_result}\")\n"
      ]
    },
    {
      "cell_type": "markdown",
      "metadata": {
        "id": "w27Ca-_Ku85V"
      },
      "source": [
        "### Projection (Проекция)\n",
        "\n",
        "Проекция на множество атрибутов $S$.\n",
        "\n",
        "**The Map Function:** Для каждого кортежа $t \\in R$ создайте кортеж $t′$, исключая  из $t$ те значения, атрибуты которых не принадлежат  $S$. Верните пару $(t′, t′)$.\n",
        "\n",
        "**The Reduce Function:** Для каждого ключа $t′$, созданного любой Map задачей, вы получаете одну или несколько пар $(t′, t′)$. Reduce функция преобразует $(t′, [t′, t′, . . . , t′])$ в $(t′, t′)$, так, что для ключа $t′$ возвращается одна пара  $(t′, t′)$."
      ]
    },
    {
      "cell_type": "code",
      "execution_count": 10,
      "metadata": {
        "id": "BEvuY4GqvhS6"
      },
      "outputs": [
        {
          "name": "stdout",
          "output_type": "stream",
          "text": [
            "Сгенерированные записи: [(38, 66, 96, 22), (18, 87, 7, 57), (50, 52, 38, 42), (58, 46, 45, 69), (38, 66, 39, 42), (79, 84, 83, 34), (83, 96, 85, 13), (11, 91, 16, 10), (83, 23, 96, 24), (42, 82, 71, 42)]\n",
            "Результат MAP: [((), ()), ((), ()), ((), ()), ((58,), (58,)), ((), ()), ((83,), (83,)), ((83, 13), (83, 13)), ((), ()), ((83, 24), (83, 24)), ((), ())]\n",
            "Результат Shuffle: [((), [(), (), (), (), (), ()]), ((58,), [(58,)]), ((83,), [(83,)]), ((83, 13), [(83, 13)]), ((83, 24), [(83, 24)])]\n",
            "Результат REDUCE: [(), (58,), (83,), (83, 13), (83, 24)]\n"
          ]
        }
      ],
      "source": [
        "import random\n",
        "from collections import defaultdict\n",
        "\n",
        "S = set([3, 13, 24, 58, 83, 92])\n",
        "\n",
        "def MAP(t):\n",
        "    res_list = [el for el in t if el in S]              # Фильтруем элементы, которые есть в S\n",
        "    res = tuple(res_list)                               # Преобразуем результат в кортеж\n",
        "    return (res, res)                                   # Возвращаем пару (t', t')\n",
        "\n",
        "def REDUCE(key, values):\n",
        "    return (key, key)                                   # Возвращаем пару (t', t') для каждого ключа\n",
        "\n",
        "\n",
        "def RECORDREADER(count):\n",
        "    return [(random.randint(0, 100), random.randint(0, 100), random.randint(0, 100), random.randint(0, 100)) for _ in range(count)]\n",
        "\n",
        "def group_by_key(iterable):\n",
        "    t = {}\n",
        "    for (k2, v2) in iterable:\n",
        "        t[k2] = t.get(k2, []) + [v2]                    # Группируем все значения по ключу k2\n",
        "    return t.items()                                    # Возвращаем список кортежей (ключ, список значений)\n",
        "\n",
        "\n",
        "record = RECORDREADER(10)  \n",
        "print(\"Сгенерированные записи:\", record)\n",
        "\n",
        "\n",
        "map_output = list(map(lambda x: MAP(x), record))        # Применяем MAP ко всем кортежам\n",
        "print(\"Результат MAP:\", map_output)\n",
        "\n",
        "\n",
        "shuffle_output = group_by_key(map_output)               # Группируем значения по ключу\n",
        "print(\"Результат Shuffle:\", list(shuffle_output))\n",
        "\n",
        "\n",
        "reduce_output = list(map(lambda x: REDUCE(*x)[0], shuffle_output))  \n",
        "print(\"Результат REDUCE:\", reduce_output)\n"
      ]
    },
    {
      "cell_type": "markdown",
      "metadata": {
        "id": "7gau6lKXvn2R"
      },
      "source": [
        "### Union (Объединение)\n",
        "\n",
        "**The Map Function:** Превратите каждый входной кортеж $t$ в пару ключ-значение $(t, t)$.\n",
        "\n",
        "**The Reduce Function:** С каждым ключом $t$ будет ассоциировано одно или два значений. В обоих случаях создайте $(t, t)$ в качестве выходного значения."
      ]
    },
    {
      "cell_type": "code",
      "execution_count": 11,
      "metadata": {
        "id": "Sns7a5agv3nw"
      },
      "outputs": [
        {
          "name": "stdout",
          "output_type": "stream",
          "text": [
            "Сгенерированные записи: [(72, 6, 20, 85), (51, 95, 60, 57), (49, 55, 67, 72), (51, 45, 16, 23), (91, 89, 72, 56), (52, 38, 19, 10), (90, 39, 58, 18), (8, 8, 14, 41), (24, 68, 7, 92), (13, 71, 31, 20)]\n",
            "Результат MAP: [((72, 6, 20, 85), (72, 6, 20, 85)), ((51, 95, 60, 57), (51, 95, 60, 57)), ((49, 55, 67, 72), (49, 55, 67, 72)), ((51, 45, 16, 23), (51, 45, 16, 23)), ((91, 89, 72, 56), (91, 89, 72, 56)), ((52, 38, 19, 10), (52, 38, 19, 10)), ((90, 39, 58, 18), (90, 39, 58, 18)), ((8, 8, 14, 41), (8, 8, 14, 41)), ((24, 68, 7, 92), (24, 68, 7, 92)), ((13, 71, 31, 20), (13, 71, 31, 20))]\n",
            "Результат Shuffle: [((72, 6, 20, 85), [(72, 6, 20, 85)]), ((51, 95, 60, 57), [(51, 95, 60, 57)]), ((49, 55, 67, 72), [(49, 55, 67, 72)]), ((51, 45, 16, 23), [(51, 45, 16, 23)]), ((91, 89, 72, 56), [(91, 89, 72, 56)]), ((52, 38, 19, 10), [(52, 38, 19, 10)]), ((90, 39, 58, 18), [(90, 39, 58, 18)]), ((8, 8, 14, 41), [(8, 8, 14, 41)]), ((24, 68, 7, 92), [(24, 68, 7, 92)]), ((13, 71, 31, 20), [(13, 71, 31, 20)])]\n",
            "Результат REDUCE: [(72, 6, 20, 85), (51, 95, 60, 57), (49, 55, 67, 72), (51, 45, 16, 23), (91, 89, 72, 56), (52, 38, 19, 10), (90, 39, 58, 18), (8, 8, 14, 41), (24, 68, 7, 92), (13, 71, 31, 20)]\n"
          ]
        }
      ],
      "source": [
        "import random\n",
        "from collections import defaultdict\n",
        "\n",
        "def MAP(t):\n",
        "    return (t, t)                       # Возвращаем пару (t, t)\n",
        "\n",
        "\n",
        "def REDUCE(key, values):\n",
        "    return (key, key)                   # Возвращаем пару (key, key)\n",
        "\n",
        "def RECORDREADER(count):\n",
        "    return [(random.randint(0, 100), random.randint(0, 100), random.randint(0, 100), random.randint(0, 100)) for _ in range(count)]\n",
        "\n",
        "def group_by_key(iterable):\n",
        "    t = {}\n",
        "    for (k2, v2) in iterable:\n",
        "        t[k2] = t.get(k2, []) + [v2]    # Группируем значения по ключу k2\n",
        "    return t.items()                    # Возвращаем список кортежей (ключ, список значений)\n",
        "\n",
        "\n",
        "record = RECORDREADER(10) \n",
        "print(\"Сгенерированные записи:\", record)\n",
        "\n",
        "\n",
        "map_output = list(map(lambda x: MAP(x), record))  \n",
        "print(\"Результат MAP:\", map_output)\n",
        "\n",
        "\n",
        "shuffle_output = group_by_key(map_output)  \n",
        "print(\"Результат Shuffle:\", list(shuffle_output))\n",
        "\n",
        "\n",
        "reduce_output = list(map(lambda x: REDUCE(*x)[0], shuffle_output))  \n",
        "print(\"Результат REDUCE:\", reduce_output)\n"
      ]
    },
    {
      "cell_type": "markdown",
      "metadata": {
        "id": "dQ8TuEbjv4J8"
      },
      "source": [
        "### Intersection (Пересечение)\n",
        "\n",
        "**The Map Function:** Превратите каждый кортеж $t$ в пары ключ-значение $(t, t)$.\n",
        "\n",
        "**The Reduce Function:** Если для ключа $t$ есть список из двух элементов $[t, t]$ $-$ создайте пару $(t, t)$. Иначе, ничего не создавайте."
      ]
    },
    {
      "cell_type": "code",
      "execution_count": 12,
      "metadata": {
        "id": "XKlBZh4IwERR"
      },
      "outputs": [
        {
          "name": "stdout",
          "output_type": "stream",
          "text": [
            "Сгенерированные записи: [(0, 1), (2, 1), (0, 1), (3, 0), (3, 1), (0, 2), (2, 2), (1, 1), (3, 3), (2, 0)]\n",
            "Результат MAP: [((0, 1), (0, 1)), ((2, 1), (2, 1)), ((0, 1), (0, 1)), ((3, 0), (3, 0)), ((3, 1), (3, 1)), ((0, 2), (0, 2)), ((2, 2), (2, 2)), ((1, 1), (1, 1)), ((3, 3), (3, 3)), ((2, 0), (2, 0))]\n",
            "Результат Shuffle: [((0, 1), [(0, 1), (0, 1)]), ((2, 1), [(2, 1)]), ((3, 0), [(3, 0)]), ((3, 1), [(3, 1)]), ((0, 2), [(0, 2)]), ((2, 2), [(2, 2)]), ((1, 1), [(1, 1)]), ((3, 3), [(3, 3)]), ((2, 0), [(2, 0)])]\n",
            "Результат REDUCE: [(0, 1)]\n"
          ]
        }
      ],
      "source": [
        "import random\n",
        "from collections import defaultdict\n",
        "\n",
        "def MAP(t):\n",
        "    return (t, t)  \n",
        "\n",
        "\n",
        "def REDUCE(key, values):\n",
        "    if len(values) == 2:                # Если для ключа t есть два значения\n",
        "        return (key, key)               # Возвращаем пару (t, t)\n",
        "    return None                         # Если ключ появляется только один раз, ничего не возвращаем\n",
        "\n",
        "\n",
        "def RECORDREADER(count):\n",
        "    return [(random.randint(0, 3), random.randint(0, 3)) for _ in range(count)]\n",
        "\n",
        "\n",
        "def group_by_key(iterable):\n",
        "    t = {}\n",
        "    for (k2, v2) in iterable:\n",
        "        t[k2] = t.get(k2, []) + [v2]    # Группируем значения по ключу k2\n",
        "    return t.items()                    # Возвращаем список кортежей (ключ, список значений)\n",
        "\n",
        "\n",
        "record = RECORDREADER(10)  \n",
        "print(\"Сгенерированные записи:\", record)\n",
        "\n",
        "\n",
        "map_output = list(map(lambda x: MAP(x), record))  \n",
        "print(\"Результат MAP:\", map_output)\n",
        "\n",
        "shuffle_output = group_by_key(map_output) \n",
        "print(\"Результат Shuffle:\", list(shuffle_output))\n",
        "\n",
        "\n",
        "reduce_output = [el[0] for el in list(map(lambda x: REDUCE(*x), shuffle_output)) if el is not None]  \n",
        "print(\"Результат REDUCE:\", reduce_output)\n"
      ]
    },
    {
      "cell_type": "markdown",
      "metadata": {
        "id": "AVOpqoY3wE5k"
      },
      "source": [
        "### Difference (Разница)\n",
        "\n",
        "**The Map Function:** Для кортежа $t \\in R$, создайте пару $(t, R)$, и для кортежа $t \\in S$, создайте пару $(t, S)$. Задумка заключается в том, чтобы значение пары было именем отношения $R$ or $S$, которому принадлежит кортеж (а лучше, единичный бит, по которому можно два отношения различить $R$ or $S$), а не весь набор атрибутов отношения.\n",
        "\n",
        "**The Reduce Function:** Для каждого ключа $t$, если соответствующее значение является списком $[R]$, создайте пару $(t, t)$. В иных случаях не предпринимайте действий."
      ]
    },
    {
      "cell_type": "code",
      "execution_count": 14,
      "metadata": {
        "id": "QE_AC09lwZIZ"
      },
      "outputs": [
        {
          "name": "stdout",
          "output_type": "stream",
          "text": [
            "Сгенерированные записи: [((0, 3, 3), 0), ((4, 1, 5), 0), ((5, 2, 2), 1), ((5, 0, 5), 1), ((0, 5, 0), 0), ((3, 1, 5), 1), ((4, 2, 2), 1), ((2, 3, 4), 1), ((2, 3, 3), 1), ((4, 5, 5), 0)]\n",
            "MAP output: [((0, 3, 3), 0), ((4, 1, 5), 0), ((5, 2, 2), 1), ((5, 0, 5), 1), ((0, 5, 0), 0), ((3, 1, 5), 1), ((4, 2, 2), 1), ((2, 3, 4), 1), ((2, 3, 3), 1), ((4, 5, 5), 0)]\n",
            "Shuffle output: [((0, 3, 3), [0]), ((4, 1, 5), [0]), ((5, 2, 2), [1]), ((5, 0, 5), [1]), ((0, 5, 0), [0]), ((3, 1, 5), [1]), ((4, 2, 2), [1]), ((2, 3, 4), [1]), ((2, 3, 3), [1]), ((4, 5, 5), [0])]\n",
            "Reduce output: [(0, 3, 3), (4, 1, 5), (0, 5, 0), (4, 5, 5)]\n"
          ]
        }
      ],
      "source": [
        "import random\n",
        "from collections import defaultdict\n",
        "\n",
        "# Два отношения: R и S ( 0 и 1)\n",
        "relations = [0, 1]\n",
        "\n",
        "# Класс для хранения кортежа и его принадлежности к одному из двух отношений (R или S)\n",
        "class Tuple:\n",
        "    def __init__(self, data: tuple, rel_id: int):\n",
        "        self.data = data\n",
        "        self.rel_id = rel_id\n",
        "\n",
        "\n",
        "# Генерируем случайный кортеж данных и назначает ему отношение (0 или 1)\n",
        "def create_tuple(count):\n",
        "    data = tuple(random.randint(0, 5) for _ in range(count))\n",
        "    rel_id = random.choice(relations)                           # Выбираем 0 (R) или 1 (S)\n",
        "    return Tuple(data, rel_id)\n",
        "\n",
        "def RECORDREADER(count):\n",
        "    return [create_tuple(3) for _ in range(count)]\n",
        "\n",
        "def MAP(t: Tuple):\n",
        "    return (t.data, t.rel_id)\n",
        "\n",
        "def REDUCE(key, values):\n",
        "    if values == [relations[0]]:  \n",
        "        return (key, key)\n",
        "    return None\n",
        "\n",
        "def group_by_key(iterable):\n",
        "    grouped = defaultdict(list)\n",
        "    for k, v in iterable:\n",
        "        grouped[k].append(v)\n",
        "    return grouped.items()\n",
        "\n",
        "records = RECORDREADER(10)\n",
        "print(\"Сгенерированные записи:\", [(r.data, r.rel_id) for r in records])\n",
        "\n",
        "map_output = list(map(MAP, records))\n",
        "print(\"MAP output:\", map_output)\n",
        "\n",
        "shuffle_output = group_by_key(map_output)\n",
        "print(\"Shuffle output:\", list(shuffle_output))\n",
        "\n",
        "reduce_output = [el[0] for el in (REDUCE(*x) for x in shuffle_output) if el is not None]\n",
        "print(\"Reduce output:\", reduce_output)\n"
      ]
    },
    {
      "cell_type": "markdown",
      "metadata": {
        "id": "j8I58V2VwhSm"
      },
      "source": [
        "### Natural Join\n",
        "\n",
        "**The Map Function:** Для каждого кортежа $(a, b)$ отношения $R$, создайте пару $(b,(R, a))$. Для каждого кортежа $(b, c)$ отношения $S$, создайте пару $(b,(S, c))$.\n",
        "\n",
        "**The Reduce Function:** Каждый ключ $b$ будет асоциирован со списком пар, которые принимают форму либо $(R, a)$, либо $(S, c)$. Создайте все пары, одни, состоящие из  первого компонента $R$, а другие, из первого компонента $S$, то есть $(R, a)$ и $(S, c)$. На выходе вы получаете последовательность пар ключ-значение из списков ключей и значений. Ключ не нужен. Каждое значение, это тройка $(a, b, c)$ такая, что $(R, a)$ и $(S, c)$ это принадлежат входному списку значений."
      ]
    },
    {
      "cell_type": "code",
      "execution_count": 15,
      "metadata": {
        "id": "yHiuuTctw86I"
      },
      "outputs": [
        {
          "name": "stdout",
          "output_type": "stream",
          "text": [
            "Сгенерированные записи: [((2, 1), 0), ((0, 5), 0), ((2, 5), 0), ((1, 4), 0), ((2, 1), 1), ((4, 2), 0), ((2, 0), 0), ((5, 3), 1), ((3, 1), 1), ((0, 4), 1)]\n",
            "MAP output: [(1, (0, 2)), (5, (0, 0)), (5, (0, 2)), (4, (0, 1)), (2, (1, 1)), (2, (0, 4)), (0, (0, 2)), (5, (1, 3)), (3, (1, 1)), (0, (1, 4))]\n",
            "Shuffle output: [(1, [(0, 2)]), (5, [(0, 0), (0, 2), (1, 3)]), (4, [(0, 1)]), (2, [(1, 1), (0, 4)]), (0, [(0, 2), (1, 4)]), (3, [(1, 1)])]\n",
            "Reduce output: [(0, 5, 3), (2, 5, 3), (4, 2, 1), (2, 0, 4)]\n"
          ]
        }
      ],
      "source": [
        "import random\n",
        "from collections import defaultdict\n",
        "\n",
        "relations = [0, 1]\n",
        "\n",
        "class Tuple:\n",
        "    def __init__(self, data: tuple, rel_id: int):\n",
        "        self.data = data\n",
        "        self.rel_id = rel_id\n",
        "\n",
        "def create_tuple():\n",
        "    data = (random.randint(0, 5), random.randint(0, 5))\n",
        "    rel_id = random.choice(relations)  \n",
        "    return Tuple(data, rel_id)\n",
        "\n",
        "def RECORDREADER(count):\n",
        "    return [create_tuple() for _ in range(count)]\n",
        "\n",
        "def MAP(t: Tuple):\n",
        "    if t.rel_id == relations[0]:                                 # Если принадлежит отношению R\n",
        "        return (t.data[1], (t.rel_id, t.data[0]))                # (b, (R, a))\n",
        "    else:                                                        # Если принадлежит отношению S\n",
        "        return (t.data[0], (t.rel_id, t.data[1]))                # (b, (S, c))\n",
        "\n",
        "def REDUCE(key, values):\n",
        "    r_values = [v[1] for v in values if v[0] == relations[0]]    # Все a, где (R, a)\n",
        "    s_values = [v[1] for v in values if v[0] == relations[1]]    # Все c, где (S, c)\n",
        "\n",
        "    return [(a, key, c) for a in r_values for c in s_values]     # Декартово произведение\n",
        "\n",
        "def group_by_key(iterable):\n",
        "    grouped = defaultdict(list)\n",
        "    for k, v in iterable:\n",
        "        grouped[k].append(v)\n",
        "    return grouped.items()\n",
        "\n",
        "records = RECORDREADER(10)\n",
        "print(\"Сгенерированные записи:\", [(r.data, r.rel_id) for r in records])\n",
        "\n",
        "map_output = list(map(MAP, records))\n",
        "print(\"MAP output:\", map_output)\n",
        "\n",
        "shuffle_output = group_by_key(map_output)\n",
        "print(\"Shuffle output:\", list(shuffle_output))\n",
        "\n",
        "reduce_output = [triple for sublist in (REDUCE(*x) for x in shuffle_output) for triple in sublist]\n",
        "print(\"Reduce output:\", reduce_output)\n"
      ]
    },
    {
      "cell_type": "markdown",
      "metadata": {
        "id": "kYdlr0YUxE27"
      },
      "source": [
        "### Grouping and Aggregation (Группировка и аггрегация)\n",
        "\n",
        "**The Map Function:** Для каждого кортежа $(a, b, c$) создайте пару $(a, b)$.\n",
        "\n",
        "**The Reduce Function:** Ключ представляет ту или иную группу. Примение аггрегирующую операцию $\\theta$ к списку значений $[b1, b2, . . . , bn]$ ассоциированных с ключом $a$. Возвращайте в выходной поток $(a, x)$, где $x$ результат применения  $\\theta$ к списку. Например, если $\\theta$ это $SUM$, тогда $x = b1 + b2 + · · · + bn$, а если $\\theta$ is $MAX$, тогда $x$ это максимальное из значений $b1, b2, . . . , bn$."
      ]
    },
    {
      "cell_type": "code",
      "execution_count": 16,
      "metadata": {
        "id": "MLPckfEGxico"
      },
      "outputs": [
        {
          "name": "stdout",
          "output_type": "stream",
          "text": [
            "Сгенерированные записи: [(6, 3, 1), (3, 3, 8), (6, 10, 5), (10, 2, 8), (1, 5, 6), (1, 8, 3), (10, 10, 10), (6, 8, 9), (1, 4, 6), (6, 10, 5)]\n",
            "MAP output: [(6, 3), (3, 3), (6, 10), (10, 2), (1, 5), (1, 8), (10, 10), (6, 8), (1, 4), (6, 10)]\n",
            "Shuffle output: [(6, [3, 10, 8, 10]), (3, [3]), (10, [2, 10]), (1, [5, 8, 4])]\n",
            "Reduce output (SUM): [(6, 31), (3, 3), (10, 12), (1, 17)]\n",
            "Reduce output (MAX): [(6, 10), (3, 3), (10, 10), (1, 8)]\n"
          ]
        }
      ],
      "source": [
        "import random\n",
        "from collections import defaultdict\n",
        "\n",
        "# Генерируем случайный кортеж (a, b, c), где значения от 1 до 10\n",
        "def get_tuple():\n",
        "    return (random.randint(1, 10), random.randint(1, 10), random.randint(1, 10))\n",
        "\n",
        "# Генерируем список случайных кортежей данных\n",
        "def RECORDREADER(count):\n",
        "    return [get_tuple() for _ in range(count)]\n",
        "\n",
        "def MAP(t):\n",
        "    return (t[0], t[1])\n",
        "\n",
        "# Функция агрегирования. Принимает список значений и тип операции\n",
        "def tetta(values, agg_func=\"SUM\"):\n",
        "    if agg_func == \"SUM\":\n",
        "        return sum(values)\n",
        "    elif agg_func == \"MAX\":\n",
        "        return max(values)\n",
        "    else:\n",
        "        raise ValueError(\"Unsupported aggregation function. Use 'SUM' or 'MAX'.\")\n",
        "\n",
        "def REDUCE(key, values, agg_func=\"SUM\"):\n",
        "    x = tetta(values, agg_func)\n",
        "    return (key, x)\n",
        "\n",
        "def group_by_key(iterable):\n",
        "    grouped = defaultdict(list)\n",
        "    for k, v in iterable:\n",
        "        grouped[k].append(v)\n",
        "    return grouped.items()\n",
        "\n",
        "records = RECORDREADER(10)\n",
        "print(\"Сгенерированные записи:\", records)\n",
        "\n",
        "map_output = list(map(MAP, records))\n",
        "print(\"MAP output:\", map_output)\n",
        "\n",
        "shuffle_output = group_by_key(map_output)\n",
        "print(\"Shuffle output:\", list(shuffle_output))\n",
        "\n",
        "reduce_sum_output = [REDUCE(k, v, \"SUM\") for k, v in shuffle_output]\n",
        "reduce_max_output = [REDUCE(k, v, \"MAX\") for k, v in shuffle_output]\n",
        "\n",
        "print(\"Reduce output (SUM):\", reduce_sum_output)\n",
        "print(\"Reduce output (MAX):\", reduce_max_output)"
      ]
    },
    {
      "cell_type": "markdown",
      "metadata": {
        "id": "03IffTEOJgOb"
      },
      "source": [
        "# "
      ]
    },
    {
      "cell_type": "markdown",
      "metadata": {
        "id": "IIrRgvG4RIS4"
      },
      "source": [
        "### Matrix-Vector multiplication\n",
        "\n",
        "Случай, когда вектор не помещается в памяти Map задачи\n"
      ]
    },
    {
      "cell_type": "code",
      "execution_count": null,
      "metadata": {
        "id": "KQhDbiL3zS9r"
      },
      "outputs": [],
      "source": []
    },
    {
      "cell_type": "markdown",
      "metadata": {
        "id": "GIo2t7nNxvA9"
      },
      "source": [
        "## Matrix multiplication (Перемножение матриц)\n",
        "\n",
        "Если у нас есть матрица $M$ с элементами $m_{ij}$ в строке $i$ и столбце $j$, и матрица $N$ с элементами $n_{jk}$ в строке $j$ и столбце $k$, тогда их произведение $P = MN$ есть матрица $P$ с элементами $p_{ik}$ в строке $i$ и столбце $k$, где\n",
        "\n",
        "$$p_{ik} =\\sum_{j} m_{ij}n_{jk}$$\n",
        "\n",
        "Необходимым требованием является одинаковое количество столбцов в $M$ и строк в $N$, чтобы операция суммирования по  $j$ была осмысленной. Мы можем размышлять о матрице, как об отношении с тремя атрибутами: номер строки, номер столбца, само значение. Таким образом матрица $M$ предстваляется как отношение $ M(I, J, V )$, с кортежами $(i, j, m_{ij})$, и, аналогично, матрица $N$ представляется как отношение $N(J, K, W)$, с кортежами $(j, k, n_{jk})$. Так как большие матрицы как правило разреженные (большинство значений равно 0), и так как мы можем нулевыми значениями пренебречь (не хранить), такое реляционное представление достаточно эффективно для больших матриц. Однако, возможно, что координаты $i$, $j$, и $k$ неявно закодированы в смещение позиции элемента относительно начала файла, вместо явного хранения. Тогда, функция Map (или Reader) должна быть разработана таким образом, чтобы реконструировать компоненты $I$, $J$, и $K$ кортежей из смещения.\n",
        "\n",
        "Произведение $MN$ это фактически join, за которым следуют группировка по ключу и аггрегация. Таким образом join отношений $M(I, J, V )$ и $N(J, K, W)$, имеющих общим только атрибут $J$, создаст кортежи $(i, j, k, v, w)$ из каждого кортежа $(i, j, v) \\in M$ и кортежа $(j, k, w) \\in N$. Такой 5 компонентный кортеж представляет пару элементов матрицы $(m_{ij} , n_{jk})$. Что нам хотелось бы получить на самом деле, это произведение этих элементов, то есть, 4 компонентный кортеж$(i, j, k, v \\times w)$, так как он представляет произведение $m_{ij}n_{jk}$. Мы представляем отношение как результат одной MapReduce операции, в которой мы можем произвести группировку и аггрегацию, с $I$ и $K$  атрибутами, по которым идёт группировка, и суммой  $V \\times W$. \n",
        "\n",
        "\n",
        "\n"
      ]
    },
    {
      "cell_type": "code",
      "execution_count": 20,
      "metadata": {
        "id": "1MBkGaLAYVCt"
      },
      "outputs": [],
      "source": [
        "# MapReduce model\n",
        "def flatten(nested_iterable):\n",
        "  for iterable in nested_iterable:\n",
        "    for element in iterable:\n",
        "      yield element\n",
        "\n",
        "def groupbykey(iterable):\n",
        "  t = {}\n",
        "  for (k2, v2) in iterable:\n",
        "    t[k2] = t.get(k2, []) + [v2]\n",
        "  return t.items()\n",
        "\n",
        "def MapReduce(RECORDREADER, MAP, REDUCE):\n",
        "  return flatten(map(lambda x: REDUCE(*x), groupbykey(flatten(map(lambda x: MAP(*x), RECORDREADER())))))"
      ]
    },
    {
      "cell_type": "markdown",
      "metadata": {
        "id": "sMspsOT0ZB35"
      },
      "source": [
        "Реализуйте перемножение матриц с использованием модельного кода MapReduce для одной машины в случае, когда одна матрица хранится в памяти, а другая генерируется RECORDREADER-ом."
      ]
    },
    {
      "cell_type": "code",
      "execution_count": null,
      "metadata": {
        "id": "psP1XekbsEjS"
      },
      "outputs": [],
      "source": [
        "import numpy as np\n",
        "I = 2\n",
        "J = 3\n",
        "K = 4*10\n",
        "small_mat = np.random.rand(I,J) # it is legal to access this from RECORDREADER, MAP, REDUCE\n",
        "big_mat = np.random.rand(J,K)\n",
        "\n",
        "def RECORDREADER():\n",
        "  for j in range(big_mat.shape[0]):\n",
        "    for k in range(big_mat.shape[1]):\n",
        "      yield ((j,k), big_mat[j,k])\n",
        "      \n",
        "def MAP(k1, v1):\n",
        "  (j, k) = k1\n",
        "  w = v1\n",
        "  for i in range(small_mat.shape[0]):             # Перебираем строки small_mat\n",
        "    yield ((i, k), small_mat[i, j] * w)           # ((i, k), произведение элементов)\n",
        "  \n",
        "def REDUCE(key, values):\n",
        "  (i, k) = key\n",
        "  return [(key, sum(values))]                     # (i, k) -> сумма всех произведений"
      ]
    },
    {
      "cell_type": "markdown",
      "metadata": {
        "id": "rnt306LHhHrm"
      },
      "source": [
        "Проверьте своё решение"
      ]
    },
    {
      "cell_type": "code",
      "execution_count": 24,
      "metadata": {
        "colab": {
          "base_uri": "https://localhost:8080/",
          "height": 34
        },
        "id": "Ewy_ZNYqW5a2",
        "outputId": "9ce264f2-9412-44e2-9b0a-cc780573ab3a"
      },
      "outputs": [
        {
          "data": {
            "text/plain": [
              "True"
            ]
          },
          "execution_count": 24,
          "metadata": {},
          "output_type": "execute_result"
        }
      ],
      "source": [
        "# CHECK THE SOLUTION\n",
        "reference_solution = np.matmul(small_mat, big_mat) \n",
        "solution = MapReduce(RECORDREADER, MAP, REDUCE)\n",
        "\n",
        "def asmatrix(reduce_output):\n",
        "  reduce_output = list(reduce_output)\n",
        "  I = max(i for ((i,k), vw) in reduce_output)+1\n",
        "  K = max(k for ((i,k), vw) in reduce_output)+1\n",
        "  mat = np.empty(shape=(I,K))\n",
        "  for ((i,k), vw) in reduce_output:\n",
        "    mat[i,k] = vw\n",
        "  return mat\n",
        "\n",
        "np.allclose(reference_solution, asmatrix(solution)) # should return true"
      ]
    },
    {
      "cell_type": "code",
      "execution_count": 25,
      "metadata": {
        "colab": {
          "base_uri": "https://localhost:8080/",
          "height": 34
        },
        "id": "TK7v4CEcfxqf",
        "outputId": "2c865d0a-4065-4e6b-c83f-5508ed5eb4fa"
      },
      "outputs": [
        {
          "data": {
            "text/plain": [
              "1"
            ]
          },
          "execution_count": 25,
          "metadata": {},
          "output_type": "execute_result"
        }
      ],
      "source": [
        "reduce_output = list(MapReduce(RECORDREADER, MAP, REDUCE))\n",
        "max(i for ((i,k), vw) in reduce_output)"
      ]
    },
    {
      "cell_type": "markdown",
      "metadata": {
        "id": "i4yyg3kOZqJJ"
      },
      "source": [
        "Реализуйте перемножение матриц  с использованием модельного кода MapReduce для одной машины в случае, когда обе матрицы генерируются в RECORDREADER. Например, сначала одна, а потом другая."
      ]
    },
    {
      "cell_type": "code",
      "execution_count": null,
      "metadata": {
        "id": "3B7rIAJCaHZq"
      },
      "outputs": [
        {
          "name": "stdout",
          "output_type": "stream",
          "text": [
            "True\n"
          ]
        }
      ],
      "source": [
        "import numpy as np\n",
        "\n",
        "I = 2  \n",
        "J = 3  \n",
        "K = 4  \n",
        "\n",
        "A = np.random.rand(I, J)  \n",
        "B = np.random.rand(J, K)  \n",
        "\n",
        "# MapReduce model\n",
        "def flatten(nested_iterable):\n",
        "    \n",
        "    for iterable in nested_iterable:\n",
        "        for element in iterable:\n",
        "            yield element\n",
        "\n",
        "def groupbykey(iterable):\n",
        "    grouped = {}\n",
        "    for (k, v) in iterable:\n",
        "        grouped[k] = grouped.get(k, []) + [v]\n",
        "    return grouped.items()\n",
        "\n",
        "def MapReduce(RECORDREADER, MAP, REDUCE):\n",
        "    records = RECORDREADER()\n",
        "    mapped = list(flatten(map(lambda x: MAP(*x), records)))         # Применяем MAP к данным\n",
        "    grouped = groupbykey(mapped)  \n",
        "    reduced = flatten(map(lambda x: REDUCE(*x), grouped))           # Применяем REDUCE\n",
        "    return reduced\n",
        "\n",
        "\n",
        "def RECORDREADER():\n",
        "    # Передаем A\n",
        "    for i in range(A.shape[0]):                                     # I строк\n",
        "        for j in range(A.shape[1]):                                 # J столбцов\n",
        "            yield ((\"A\", i, j), A[i, j])                            \n",
        "\n",
        "    # Передаем B\n",
        "    for j in range(B.shape[0]):                                     # J строк\n",
        "        for k in range(B.shape[1]):                                 # K столбцов\n",
        "            yield ((\"B\", j, k), B[j, k])  \n",
        "\n",
        "# Сопоставляем элементы A и B\n",
        "def MAP(k1, v1):\n",
        "    tag, i_or_j, j_or_k = k1                                       # Распаковываем ключ\n",
        "    w = v1                                                         # Значение элемента\n",
        "\n",
        "    if tag == \"A\":  \n",
        "        i, j = i_or_j, j_or_k\n",
        "        for k in range(K):                                         # Перебираем все столбцы B\n",
        "            yield ((i, k), (\"A\", j, w))  \n",
        "\n",
        "    elif tag == \"B\":  \n",
        "        j, k = i_or_j, j_or_k\n",
        "        for i in range(I):                                         # Перебираем все строки A\n",
        "            yield ((i, k), (\"B\", j, w))  \n",
        "\n",
        "# Перемножаем и суммируем элементы\n",
        "def REDUCE(key, values):\n",
        "    A_values = {j: w for tag, j, w in values if tag == \"A\"}        # Словарь A[j] -> значение\n",
        "    B_values = {j: w for tag, j, w in values if tag == \"B\"}        # Словарь B[j] -> значение\n",
        "\n",
        "    sum_result = sum(A_values[j] * B_values[j] for j in A_values if j in B_values)\n",
        "    \n",
        "    return [(key, sum_result)]                                     # (i, k) -> сумма произведений\n",
        "\n",
        "\n",
        "solution = list(MapReduce(RECORDREADER, MAP, REDUCE))\n",
        "\n",
        "# Преобразование результата в матрицу\n",
        "def asmatrix(reduce_output):\n",
        "    reduce_output = list(reduce_output)\n",
        "    I = max(i for ((i, k), vw) in reduce_output) + 1\n",
        "    K = max(k for ((i, k), vw) in reduce_output) + 1\n",
        "    mat = np.zeros((I, K)) \n",
        "    for ((i, k), vw) in reduce_output:\n",
        "        mat[i, k] = vw\n",
        "    return mat\n",
        "\n",
        "\n",
        "reference_solution = np.matmul(A, B)  \n",
        "computed_solution = asmatrix(solution)  \n",
        "\n",
        "print(np.allclose(reference_solution, computed_solution))  \n"
      ]
    },
    {
      "cell_type": "markdown",
      "metadata": {
        "id": "mXyzQi1DaIwo"
      },
      "source": [
        "Реализуйте перемножение матриц с использованием модельного кода MapReduce Distributed, когда каждая матрица генерируется в своём RECORDREADER. "
      ]
    },
    {
      "cell_type": "code",
      "execution_count": 28,
      "metadata": {
        "id": "TDM_s78Rb5eR"
      },
      "outputs": [
        {
          "name": "stdout",
          "output_type": "stream",
          "text": [
            "True\n"
          ]
        }
      ],
      "source": [
        "import numpy as np\n",
        "\n",
        "I = 2  \n",
        "J = 3  \n",
        "K = 4  \n",
        "\n",
        "A = np.random.rand(I, J)  \n",
        "B = np.random.rand(J, K)  \n",
        "\n",
        "def flatten(nested_iterable):\n",
        "    for iterable in nested_iterable:\n",
        "        for element in iterable:\n",
        "            yield element\n",
        "\n",
        "def groupbykey(iterable):\n",
        "    grouped = {}\n",
        "    for (k, v) in iterable:\n",
        "        grouped[k] = grouped.get(k, []) + [v]\n",
        "    return grouped.items()\n",
        "\n",
        "\n",
        "def MapReduce(RECORDREADER_A, RECORDREADER_B, MAP, REDUCE):\n",
        "\n",
        "    # Читаем A и В\n",
        "    records_A = RECORDREADER_A()                \n",
        "    records_B = RECORDREADER_B()  \n",
        "    \n",
        "    # MAP для A и В\n",
        "    mapped_A = list(flatten(map(lambda x: MAP(*x), records_A)))  \n",
        "    mapped_B = list(flatten(map(lambda x: MAP(*x), records_B)))  \n",
        "    \n",
        "    # Объединяем результаты и группируем по (i, k)\n",
        "    mapped = mapped_A + mapped_B                \n",
        "    grouped = groupbykey(mapped)  \n",
        "    \n",
        "    reduced = flatten(map(lambda x: REDUCE(*x), grouped))  \n",
        "    return reduced\n",
        "\n",
        "# Читаем матрицу A\n",
        "def RECORDREADER_A():\n",
        "    for i in range(A.shape[0]):  \n",
        "        for j in range(A.shape[1]):  \n",
        "            yield ((\"A\", i, j), A[i, j])  \n",
        "\n",
        "# Читаем матрицу B\n",
        "def RECORDREADER_B():\n",
        "    for j in range(B.shape[0]):  \n",
        "        for k in range(B.shape[1]):  \n",
        "            yield ((\"B\", j, k), B[j, k])  \n",
        "\n",
        "# Распределяем значения A и B\n",
        "def MAP(k1, v1):\n",
        "    tag, i_or_j, j_or_k = k1                # Разбираем ключ\n",
        "    w = v1  \n",
        "\n",
        "    if tag == \"A\":  \n",
        "        i, j = i_or_j, j_or_k\n",
        "        for k in range(K): \n",
        "            yield ((i, k), (\"A\", j, w))  \n",
        "\n",
        "    elif tag == \"B\":  \n",
        "        j, k = i_or_j, j_or_k\n",
        "        for i in range(I):  \n",
        "            yield ((i, k), (\"B\", j, w))  \n",
        "\n",
        "# Перемножаем и суммируем\n",
        "def REDUCE(key, values):\n",
        "    A_values = {j: w for tag, j, w in values if tag == \"A\"}  \n",
        "    B_values = {j: w for tag, j, w in values if tag == \"B\"}  \n",
        "\n",
        "    sum_result = sum(A_values[j] * B_values[j] for j in A_values if j in B_values)\n",
        "    \n",
        "    return [(key, sum_result)]  \n",
        "\n",
        "solution = list(MapReduce(RECORDREADER_A, RECORDREADER_B, MAP, REDUCE))\n",
        "\n",
        "def asmatrix(reduce_output):\n",
        "    reduce_output = list(reduce_output)\n",
        "    I = max(i for ((i, k), vw) in reduce_output) + 1\n",
        "    K = max(k for ((i, k), vw) in reduce_output) + 1\n",
        "    mat = np.zeros((I, K))  \n",
        "    for ((i, k), vw) in reduce_output:\n",
        "        mat[i, k] = vw\n",
        "    return mat\n",
        "\n",
        "reference_solution = np.matmul(A, B)  \n",
        "computed_solution = asmatrix(solution)  \n",
        "\n",
        "print( np.allclose(reference_solution, computed_solution))  \n"
      ]
    },
    {
      "cell_type": "markdown",
      "metadata": {
        "id": "ZuSA2P9Db6UM"
      },
      "source": [
        "Обобщите предыдущее решение на случай, когда каждая матрица генерируется несколькими RECORDREADER-ами, и проверьте его работоспособность. Будет ли работать решение, если RECORDREADER-ы будут генерировать случайное подмножество элементов матрицы?"
      ]
    },
    {
      "cell_type": "code",
      "execution_count": 33,
      "metadata": {
        "id": "ehN0FqRDcwU5"
      },
      "outputs": [
        {
          "name": "stdout",
          "output_type": "stream",
          "text": [
            "True\n"
          ]
        }
      ],
      "source": [
        "import numpy as np\n",
        "import random\n",
        "\n",
        "I = 3  \n",
        "J = 4  \n",
        "K = 5  \n",
        "\n",
        "A = np.random.rand(I, J)\n",
        "B = np.random.rand(J, K)\n",
        "\n",
        "# Количество RECORDREADER-ов для каждой матрицы\n",
        "NUM_READERS_A = 3\n",
        "NUM_READERS_B = 2\n",
        "\n",
        "def flatten(nested_iterable):\n",
        "    for iterable in nested_iterable:\n",
        "        for element in iterable:\n",
        "            yield element\n",
        "\n",
        "\n",
        "def groupbykey(iterable):\n",
        "    grouped = {}\n",
        "    for (k, v) in iterable:\n",
        "        grouped[k] = grouped.get(k, []) + [v]\n",
        "    return grouped.items()\n",
        "\n",
        "\n",
        "def MapReduce(RECORDREADERS_A, RECORDREADERS_B, MAP, REDUCE):\n",
        "    # Все A и В\n",
        "    records_A = flatten(reader() for reader in RECORDREADERS_A)  \n",
        "    records_B = flatten(reader() for reader in RECORDREADERS_B)  \n",
        "    \n",
        "    # MAP для A и В\n",
        "    mapped_A = list(flatten(map(lambda x: MAP(*x), records_A)))  \n",
        "    mapped_B = list(flatten(map(lambda x: MAP(*x), records_B))) \n",
        "    \n",
        "    # Объединяем результаты и группируем по (i, k)\n",
        "    mapped = mapped_A + mapped_B  \n",
        "    grouped = groupbykey(mapped)  \n",
        "    \n",
        "    reduced = flatten(map(lambda x: REDUCE(*x), grouped))  \n",
        "    return reduced\n",
        "\n",
        "# Читаем подмножество A\n",
        "def RECORDREADER_A(reader_id):\n",
        "    for i in range(I):\n",
        "        for j in range(J):\n",
        "            yield ((\"A\", i, j), A[i, j]) \n",
        "\n",
        "# Читаем подмножество B\n",
        "def RECORDREADER_B(reader_id):\n",
        "    for j in range(J):\n",
        "        for k in range(K):\n",
        "            yield ((\"B\", j, k), B[j, k]) \n",
        "\n",
        "# Распределяем значения A и B\n",
        "def MAP(k1, v1):\n",
        "    tag, i_or_j, j_or_k = k1\n",
        "    w = v1  \n",
        "\n",
        "    if tag == \"A\":  \n",
        "        i, j = i_or_j, j_or_k\n",
        "        for k in range(K):\n",
        "            yield ((i, k), (\"A\", j, w))  \n",
        "\n",
        "    elif tag == \"B\":  \n",
        "        j, k = i_or_j, j_or_k\n",
        "        for i in range(I): \n",
        "            yield ((i, k), (\"B\", j, w))  \n",
        "\n",
        "def REDUCE(key, values):\n",
        "    A_values = {j: w for tag, j, w in values if tag == \"A\"}  \n",
        "    B_values = {j: w for tag, j, w in values if tag == \"B\"}  \n",
        "\n",
        "    sum_result = sum(A_values[j] * B_values[j] for j in A_values if j in B_values)\n",
        "    \n",
        "    return [(key, sum_result)]  \n",
        "\n",
        "\n",
        "RECORDREADERS_A = [lambda: RECORDREADER_A(i) for i in range(NUM_READERS_A)]\n",
        "RECORDREADERS_B = [lambda: RECORDREADER_B(i) for i in range(NUM_READERS_B)]\n",
        "\n",
        "\n",
        "solution = list(MapReduce(RECORDREADERS_A, RECORDREADERS_B, MAP, REDUCE))\n",
        "\n",
        "\n",
        "def asmatrix(reduce_output):\n",
        "    reduce_output = list(reduce_output)\n",
        "    I = max(i for ((i, k), vw) in reduce_output) + 1\n",
        "    K = max(k for ((i, k), vw) in reduce_output) + 1\n",
        "    mat = np.zeros((I, K))  \n",
        "    for ((i, k), vw) in reduce_output:\n",
        "        mat[i, k] = vw\n",
        "    return mat\n",
        "\n",
        "reference_solution = np.matmul(A, B)  \n",
        "computed_solution = asmatrix(solution)  \n",
        "\n",
        "print(np.allclose(reference_solution, computed_solution))  \n"
      ]
    }
  ],
  "metadata": {
    "colab": {
      "provenance": []
    },
    "kernelspec": {
      "display_name": "Python 3",
      "name": "python3"
    },
    "language_info": {
      "codemirror_mode": {
        "name": "ipython",
        "version": 3
      },
      "file_extension": ".py",
      "mimetype": "text/x-python",
      "name": "python",
      "nbconvert_exporter": "python",
      "pygments_lexer": "ipython3",
      "version": "3.12.2"
    }
  },
  "nbformat": 4,
  "nbformat_minor": 0
}
