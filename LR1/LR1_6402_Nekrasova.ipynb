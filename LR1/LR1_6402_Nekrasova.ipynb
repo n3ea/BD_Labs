{
  "nbformat": 4,
  "nbformat_minor": 0,
  "metadata": {
    "colab": {
      "provenance": [],
      "toc_visible": true
    },
    "kernelspec": {
      "name": "python3",
      "display_name": "Python 3"
    },
    "language_info": {
      "name": "python"
    }
  },
  "cells": [
    {
      "cell_type": "code",
      "execution_count": null,
      "metadata": {
        "id": "0rWshcvPNEuh",
        "colab": {
          "base_uri": "https://localhost:8080/"
        },
        "outputId": "86d4056e-93e2-4caf-93c3-f194bcad85b5"
      },
      "outputs": [
        {
          "output_type": "stream",
          "name": "stdout",
          "text": [
            "Requirement already satisfied: pyspark in /usr/local/lib/python3.11/dist-packages (3.5.0)\n",
            "Requirement already satisfied: py4j==0.10.9.7 in /usr/local/lib/python3.11/dist-packages (from pyspark) (0.10.9.7)\n"
          ]
        }
      ],
      "source": [
        "!pip install pyspark"
      ]
    },
    {
      "cell_type": "code",
      "source": [
        "import pyspark.sql.functions as F\n",
        "import pyspark.sql.types as t\n",
        "\n",
        "from pyspark.sql import SparkSession\n",
        "from pyspark.sql.functions import col\n",
        "from geopy.distance import geodesic\n",
        "from math import sqrt"
      ],
      "metadata": {
        "id": "ewqTP8bPaBq0"
      },
      "execution_count": null,
      "outputs": []
    },
    {
      "cell_type": "code",
      "source": [
        "spark = SparkSession.builder.getOrCreate()\n",
        "spark"
      ],
      "metadata": {
        "colab": {
          "base_uri": "https://localhost:8080/",
          "height": 219
        },
        "id": "fbo2R25jaWYS",
        "outputId": "2fbf7ae9-efff-4b81-c2c9-df103eda7e23"
      },
      "execution_count": null,
      "outputs": [
        {
          "output_type": "execute_result",
          "data": {
            "text/plain": [
              "<pyspark.sql.session.SparkSession at 0x7a9ecb79e990>"
            ],
            "text/html": [
              "\n",
              "            <div>\n",
              "                <p><b>SparkSession - in-memory</b></p>\n",
              "                \n",
              "        <div>\n",
              "            <p><b>SparkContext</b></p>\n",
              "\n",
              "            <p><a href=\"http://dc49fa37826f:4040\">Spark UI</a></p>\n",
              "\n",
              "            <dl>\n",
              "              <dt>Version</dt>\n",
              "                <dd><code>v3.5.0</code></dd>\n",
              "              <dt>Master</dt>\n",
              "                <dd><code>local[*]</code></dd>\n",
              "              <dt>AppName</dt>\n",
              "                <dd><code>pyspark-shell</code></dd>\n",
              "            </dl>\n",
              "        </div>\n",
              "        \n",
              "            </div>\n",
              "        "
            ]
          },
          "metadata": {},
          "execution_count": 136
        }
      ]
    },
    {
      "cell_type": "code",
      "source": [
        "trips = spark.read.format('csv').option('header', 'true').load(\"trip.csv\")\n"
      ],
      "metadata": {
        "id": "1qy7mIKYOtCN"
      },
      "execution_count": null,
      "outputs": []
    },
    {
      "cell_type": "markdown",
      "source": [
        "**Найти велосипед с максимальным временем пробега**\n",
        "\n",
        "---\n",
        "\n"
      ],
      "metadata": {
        "id": "DIaXRHltah05"
      }
    },
    {
      "cell_type": "code",
      "source": [
        "trips = spark.read.format('csv').option('header', 'true').load(\"trip.csv\")\n",
        "\n",
        "# Группировка по 'bike_id' и вычисление максимальной длительности одной поездки\n",
        "max_duration_per_bike = (\n",
        "    trips\n",
        "    .filter(F.col(\"duration\").isNotNull())  # Исключаем null в duration\n",
        "    .groupBy('bike_id')\n",
        "    .agg(F.sum(F.col(\"duration\").cast(t.LongType())).alias(\"duration\"))\n",
        ")\n",
        "\n",
        "# Нахождение велосипеда с самой длинной поездкой\n",
        "top_longest_trip = max_duration_per_bike.orderBy(F.col('duration').desc(),F.col('bike_id').asc())\n",
        "top_longest_trip.show(1)\n"
      ],
      "metadata": {
        "id": "k1NTqgusa5Qw",
        "colab": {
          "base_uri": "https://localhost:8080/"
        },
        "outputId": "a63d26d7-306a-4435-f977-84a642bcc245"
      },
      "execution_count": null,
      "outputs": [
        {
          "output_type": "stream",
          "name": "stdout",
          "text": [
            "+-------+--------+\n",
            "|bike_id|duration|\n",
            "+-------+--------+\n",
            "|    535|18611693|\n",
            "+-------+--------+\n",
            "only showing top 1 row\n",
            "\n"
          ]
        }
      ]
    },
    {
      "cell_type": "markdown",
      "source": [
        "**Найти наибольшее геодезическое расстояние между станциями**\n",
        "\n",
        "---\n",
        "\n"
      ],
      "metadata": {
        "id": "QiL-6JooixNz"
      }
    },
    {
      "cell_type": "code",
      "source": [
        "stations = spark.read.format('csv').option('header', 'true').load(\"station.csv\")\n",
        "# Выбираем необходимые столбцы ('id', 'lat', 'long') из DataFrame stations\n",
        "station_locations = stations.select(\"id\", \"lat\", \"long\")\n",
        "station_locations.show(5)\n",
        "\n",
        "# Создаем комбинации станций (A и B), исключая совпадающие пары\n",
        "station_pairs = (\n",
        "    station_locations\n",
        "    .selectExpr(\"id as station_A\", \"lat as lat_A\", \"long as long_A\")\n",
        "    .join(\n",
        "        station_locations.selectExpr(\"id as station_B\", \"lat as lat_B\", \"long as long_B\")\n",
        "    )\n",
        ")\n",
        "\n",
        "# Исключаем дубликаты (оставляем только пары, где A ≠ B)\n",
        "unique_station_pairs = station_pairs.filter(F.col(\"station_A\") != F.col(\"station_B\"))\n",
        "\n",
        "# Функция для вычисления евклидова расстояния между двумя координатами\n",
        "def compute_euclidean_distance(lat1, lon1, lat2, lon2):\n",
        "    return sqrt((lat1 - lat2) ** 2 + (lon1 - lon2) ** 2)\n",
        "\n",
        "# Применяем функцию к каждой паре станций, создавая RDD с расстояниями\n",
        "distance_rdd = unique_station_pairs.rdd.map(\n",
        "    lambda row: (\n",
        "        row.station_A,\n",
        "        row.station_B,\n",
        "        compute_euclidean_distance(\n",
        "            float(row.lat_A), float(row.long_A), float(row.lat_B), float(row.long_B)\n",
        "        )\n",
        "    )\n",
        ")\n",
        "\n",
        "# Поиск максимального расстояния между станциями\n",
        "farthest_stations = distance_rdd.max(lambda row: row[2])\n",
        "\n",
        "# Вывод результата\n",
        "farthest_stations"
      ],
      "metadata": {
        "colab": {
          "base_uri": "https://localhost:8080/"
        },
        "id": "I130i6rGi7hN",
        "outputId": "729ec65e-a04f-48c9-ff33-980b40a6d953"
      },
      "execution_count": null,
      "outputs": [
        {
          "output_type": "stream",
          "name": "stdout",
          "text": [
            "+---+------------------+-------------------+\n",
            "| id|               lat|               long|\n",
            "+---+------------------+-------------------+\n",
            "|  2|         37.329732|-121.90178200000001|\n",
            "|  3|         37.330698|        -121.888979|\n",
            "|  4|         37.333988|        -121.894902|\n",
            "|  5|         37.331415|          -121.8932|\n",
            "|  6|37.336721000000004|        -121.894074|\n",
            "+---+------------------+-------------------+\n",
            "only showing top 5 rows\n",
            "\n"
          ]
        },
        {
          "output_type": "execute_result",
          "data": {
            "text/plain": [
              "('16', '60', 0.7058482821754397)"
            ]
          },
          "metadata": {},
          "execution_count": 124
        }
      ]
    },
    {
      "cell_type": "markdown",
      "source": [
        "**Найти путь велосипеда с максимальным временем пробега через станции**\n",
        "\n",
        "\n",
        "---\n",
        "\n"
      ],
      "metadata": {
        "id": "99utLnf0kclF"
      }
    },
    {
      "cell_type": "code",
      "source": [
        "# Выбор нужных столбцов, включая 'duration', фильтрация по bike_id = 535 и поиск максимальной длительности\n",
        "max_trip = (\n",
        "    trips.select(\"id\", \"bike_id\", \"start_station_id\", \"end_station_id\", \"duration\")\n",
        "    .filter(F.col(\"bike_id\") == 535)\n",
        "    .orderBy(F.col(\"duration\").cast(t.IntegerType()).desc())  # Сортировка по длительности\n",
        "    .limit(1)  # Берем только одну запись с максимальной длительностью\n",
        ")\n",
        "\n",
        "# Вывод результата\n",
        "max_trip.show()\n",
        "print(\"Путь велосипеда с максимальным временем пробега:\")\n",
        "print(f\"ID поездки: {max_trip.first()['id']}, Начальная станция: {max_trip.first()['start_station_id']}, Конечная станция: {max_trip.first()['end_station_id']}, Длительность: {max_trip.first()['duration']} секунд\")\n"
      ],
      "metadata": {
        "colab": {
          "base_uri": "https://localhost:8080/"
        },
        "id": "LeB1TfQekm1A",
        "outputId": "d6f2226f-d5b2-4b84-f075-fc47b94ca9f1"
      },
      "execution_count": null,
      "outputs": [
        {
          "output_type": "stream",
          "name": "stdout",
          "text": [
            "+------+-------+----------------+--------------+--------+\n",
            "|    id|bike_id|start_station_id|end_station_id|duration|\n",
            "+------+-------+----------------+--------------+--------+\n",
            "|568474|    535|              66|            62|17270400|\n",
            "+------+-------+----------------+--------------+--------+\n",
            "\n",
            "Путь велосипеда с максимальным временем пробега:\n",
            "ID поездки: 568474, Начальная станция: 66, Конечная станция: 62, Длительность: 17270400 секунд\n"
          ]
        }
      ]
    },
    {
      "cell_type": "markdown",
      "source": [
        "**Найти количество велосипедов в системе**\n",
        "\n",
        "\n",
        "---\n",
        "\n"
      ],
      "metadata": {
        "id": "vGy_6Wg1lh8y"
      }
    },
    {
      "cell_type": "code",
      "source": [
        "unique_bikes_count = trips.select(\"bike_id\").distinct().count()\n",
        "unique_bikes_count\n"
      ],
      "metadata": {
        "id": "gHKleHOBliy-",
        "colab": {
          "base_uri": "https://localhost:8080/"
        },
        "outputId": "acd28f01-2ba2-496b-ee2b-5d6b69ec0db8"
      },
      "execution_count": null,
      "outputs": [
        {
          "output_type": "execute_result",
          "data": {
            "text/plain": [
              "700"
            ]
          },
          "metadata": {},
          "execution_count": 141
        }
      ]
    },
    {
      "cell_type": "markdown",
      "source": [
        "**Найти пользователей потративших на поездки более 3 часов**\n",
        "\n",
        "\n",
        "---\n",
        "\n"
      ],
      "metadata": {
        "id": "TXtf2SWvlurJ"
      }
    },
    {
      "cell_type": "code",
      "source": [
        "# Группировка по 'zip_code' и вычисление суммарной продолжительности поездок\n",
        "output_filtered = (\n",
        "    trips\n",
        "    .groupBy('zip_code')\n",
        "    .agg(\n",
        "        F.sum(F.col(\"duration\").cast(t.IntegerType())).alias(\"total_duration\")  # Сумма вместо максимума\n",
        "    )\n",
        "    .filter(F.col(\"total_duration\") >= 10800)  # Фильтрация по суммарному времени ≥ 3 часов\n",
        ")\n",
        "\n",
        "# Подсчёт количества пользователей и вывод результата\n",
        "num_users = output_filtered.count()\n",
        "output_filtered.show(truncate=False)\n",
        "\n",
        "print(f\"Найдено {num_users} пользователей, потративших на поездки более 3 часов\")"
      ],
      "metadata": {
        "colab": {
          "base_uri": "https://localhost:8080/"
        },
        "id": "-xfgie_Xl3W9",
        "outputId": "9759c5f7-fbf9-41c0-fdc0-91a00ddb2f1e"
      },
      "execution_count": null,
      "outputs": [
        {
          "output_type": "stream",
          "name": "stdout",
          "text": [
            "+--------+--------------+\n",
            "|zip_code|total_duration|\n",
            "+--------+--------------+\n",
            "|94102   |19128021      |\n",
            "|95134   |728023        |\n",
            "|84606   |95145         |\n",
            "|80305   |180906        |\n",
            "|60070   |28919         |\n",
            "|95519   |30303         |\n",
            "|43085   |11670         |\n",
            "|91910   |50488         |\n",
            "|77339   |13713         |\n",
            "|48063   |13755         |\n",
            "|85022   |12682         |\n",
            "|1090    |20391         |\n",
            "|2136    |16010         |\n",
            "|11722   |24331         |\n",
            "|95138   |155365        |\n",
            "|94610   |3630628       |\n",
            "|94404   |3589350       |\n",
            "|80301   |152189        |\n",
            "|91326   |65885         |\n",
            "|90742   |10965         |\n",
            "+--------+--------------+\n",
            "only showing top 20 rows\n",
            "\n",
            "Найдено 3662 пользователей, потративших на поездки более 3 часов\n"
          ]
        }
      ]
    }
  ]
}